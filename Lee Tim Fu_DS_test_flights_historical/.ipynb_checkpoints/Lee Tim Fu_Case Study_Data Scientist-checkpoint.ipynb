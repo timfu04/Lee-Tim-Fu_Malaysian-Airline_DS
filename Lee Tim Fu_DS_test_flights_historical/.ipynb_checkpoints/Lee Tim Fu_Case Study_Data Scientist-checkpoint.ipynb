{
 "cells": [
  {
   "cell_type": "code",
   "execution_count": 1,
   "id": "ab35e3ce",
   "metadata": {},
   "outputs": [],
   "source": [
    "import pandas as pd\n",
    "import seaborn as sns\n",
    "import numpy as np\n",
    "import matplotlib.pyplot as plt\n",
    "\n",
    "# Pre-Processing\n",
    "import collections\n",
    "from imblearn.over_sampling import SMOTE\n",
    "\n",
    "# Modelling\n",
    "from sklearn.linear_model import LogisticRegression\n",
    "from sklearn.model_selection import train_test_split\n",
    "\n",
    "# Results\n",
    "from sklearn.metrics import accuracy_score\n",
    "from sklearn.metrics import classification_report\n",
    "from sklearn.metrics import plot_confusion_matrix\n",
    "from sklearn.metrics import confusion_matrix\n",
    "from sklearn.metrics import roc_auc_score\n",
    "from sklearn.metrics import roc_curve"
   ]
  },
  {
   "cell_type": "code",
   "execution_count": 2,
   "id": "3a88cb55",
   "metadata": {
    "scrolled": true
   },
   "outputs": [],
   "source": [
    "# Print numpy array without truncation\n",
    "# np.set_printoptions(threshold=np.inf)"
   ]
  },
  {
   "cell_type": "markdown",
   "id": "61725b3e",
   "metadata": {},
   "source": [
    "# Load training and testing dataset"
   ]
  },
  {
   "cell_type": "code",
   "execution_count": 3,
   "id": "2329edfd",
   "metadata": {},
   "outputs": [],
   "source": [
    "# Load training data\n",
    "train_df = pd.read_csv('train_1.csv')\n",
    "\n",
    "# Load testing data\n",
    "test_df = pd.read_csv('test_1.csv')"
   ]
  },
  {
   "cell_type": "markdown",
   "id": "6a1a1feb",
   "metadata": {},
   "source": [
    "# Exploratory Data Analysis (EDA)"
   ]
  },
  {
   "cell_type": "code",
   "execution_count": 4,
   "id": "6ac0525b",
   "metadata": {
    "scrolled": false
   },
   "outputs": [
    {
     "data": {
      "text/html": [
       "<div>\n",
       "<style scoped>\n",
       "    .dataframe tbody tr th:only-of-type {\n",
       "        vertical-align: middle;\n",
       "    }\n",
       "\n",
       "    .dataframe tbody tr th {\n",
       "        vertical-align: top;\n",
       "    }\n",
       "\n",
       "    .dataframe thead th {\n",
       "        text-align: right;\n",
       "    }\n",
       "</style>\n",
       "<table border=\"1\" class=\"dataframe\">\n",
       "  <thead>\n",
       "    <tr style=\"text-align: right;\">\n",
       "      <th></th>\n",
       "      <th>unique_carrier</th>\n",
       "      <th>origin</th>\n",
       "      <th>destination</th>\n",
       "      <th>is_delayed</th>\n",
       "      <th>departure_time</th>\n",
       "      <th>month</th>\n",
       "      <th>day_of_month</th>\n",
       "      <th>day_of_week</th>\n",
       "      <th>distance</th>\n",
       "    </tr>\n",
       "  </thead>\n",
       "  <tbody>\n",
       "    <tr>\n",
       "      <th>0</th>\n",
       "      <td>RQ</td>\n",
       "      <td>ULX</td>\n",
       "      <td>TVQ</td>\n",
       "      <td>N</td>\n",
       "      <td>1143</td>\n",
       "      <td>M-12</td>\n",
       "      <td>D-16</td>\n",
       "      <td>W-5</td>\n",
       "      <td>1587</td>\n",
       "    </tr>\n",
       "    <tr>\n",
       "      <th>1</th>\n",
       "      <td>C6</td>\n",
       "      <td>URX</td>\n",
       "      <td>DIE</td>\n",
       "      <td>N</td>\n",
       "      <td>2356</td>\n",
       "      <td>M-3</td>\n",
       "      <td>D-22</td>\n",
       "      <td>W-3</td>\n",
       "      <td>2454</td>\n",
       "    </tr>\n",
       "    <tr>\n",
       "      <th>2</th>\n",
       "      <td>WT</td>\n",
       "      <td>HSR</td>\n",
       "      <td>VWP</td>\n",
       "      <td>Y</td>\n",
       "      <td>2012</td>\n",
       "      <td>M-1</td>\n",
       "      <td>D-14</td>\n",
       "      <td>W-5</td>\n",
       "      <td>1437</td>\n",
       "    </tr>\n",
       "    <tr>\n",
       "      <th>3</th>\n",
       "      <td>NB</td>\n",
       "      <td>UGR</td>\n",
       "      <td>CNY</td>\n",
       "      <td>N</td>\n",
       "      <td>1626</td>\n",
       "      <td>M-10</td>\n",
       "      <td>D-14</td>\n",
       "      <td>W-6</td>\n",
       "      <td>328</td>\n",
       "    </tr>\n",
       "    <tr>\n",
       "      <th>4</th>\n",
       "      <td>WT</td>\n",
       "      <td>HTE</td>\n",
       "      <td>RJB</td>\n",
       "      <td>N</td>\n",
       "      <td>1112</td>\n",
       "      <td>M-5</td>\n",
       "      <td>D-18</td>\n",
       "      <td>W-3</td>\n",
       "      <td>957</td>\n",
       "    </tr>\n",
       "    <tr>\n",
       "      <th>5</th>\n",
       "      <td>OZ</td>\n",
       "      <td>PTV</td>\n",
       "      <td>RTQ</td>\n",
       "      <td>N</td>\n",
       "      <td>1213</td>\n",
       "      <td>M-8</td>\n",
       "      <td>D-13</td>\n",
       "      <td>W-7</td>\n",
       "      <td>248</td>\n",
       "    </tr>\n",
       "    <tr>\n",
       "      <th>6</th>\n",
       "      <td>WP</td>\n",
       "      <td>RMT</td>\n",
       "      <td>CHP</td>\n",
       "      <td>N</td>\n",
       "      <td>1836</td>\n",
       "      <td>M-3</td>\n",
       "      <td>D-20</td>\n",
       "      <td>W-1</td>\n",
       "      <td>399</td>\n",
       "    </tr>\n",
       "    <tr>\n",
       "      <th>7</th>\n",
       "      <td>RQ</td>\n",
       "      <td>IQQ</td>\n",
       "      <td>MGF</td>\n",
       "      <td>N</td>\n",
       "      <td>1214</td>\n",
       "      <td>M-3</td>\n",
       "      <td>D-29</td>\n",
       "      <td>W-3</td>\n",
       "      <td>932</td>\n",
       "    </tr>\n",
       "    <tr>\n",
       "      <th>8</th>\n",
       "      <td>HH</td>\n",
       "      <td>PIH</td>\n",
       "      <td>PTV</td>\n",
       "      <td>N</td>\n",
       "      <td>1039</td>\n",
       "      <td>M-6</td>\n",
       "      <td>D-20</td>\n",
       "      <td>W-2</td>\n",
       "      <td>1482</td>\n",
       "    </tr>\n",
       "    <tr>\n",
       "      <th>9</th>\n",
       "      <td>IQ</td>\n",
       "      <td>CNY</td>\n",
       "      <td>PSZ</td>\n",
       "      <td>N</td>\n",
       "      <td>742</td>\n",
       "      <td>M-3</td>\n",
       "      <td>D-16</td>\n",
       "      <td>W-3</td>\n",
       "      <td>880</td>\n",
       "    </tr>\n",
       "  </tbody>\n",
       "</table>\n",
       "</div>"
      ],
      "text/plain": [
       "  unique_carrier origin destination is_delayed  departure_time month  \\\n",
       "0             RQ    ULX         TVQ          N            1143  M-12   \n",
       "1             C6    URX         DIE          N            2356   M-3   \n",
       "2             WT    HSR         VWP          Y            2012   M-1   \n",
       "3             NB    UGR         CNY          N            1626  M-10   \n",
       "4             WT    HTE         RJB          N            1112   M-5   \n",
       "5             OZ    PTV         RTQ          N            1213   M-8   \n",
       "6             WP    RMT         CHP          N            1836   M-3   \n",
       "7             RQ    IQQ         MGF          N            1214   M-3   \n",
       "8             HH    PIH         PTV          N            1039   M-6   \n",
       "9             IQ    CNY         PSZ          N             742   M-3   \n",
       "\n",
       "  day_of_month day_of_week  distance  \n",
       "0         D-16         W-5      1587  \n",
       "1         D-22         W-3      2454  \n",
       "2         D-14         W-5      1437  \n",
       "3         D-14         W-6       328  \n",
       "4         D-18         W-3       957  \n",
       "5         D-13         W-7       248  \n",
       "6         D-20         W-1       399  \n",
       "7         D-29         W-3       932  \n",
       "8         D-20         W-2      1482  \n",
       "9         D-16         W-3       880  "
      ]
     },
     "execution_count": 4,
     "metadata": {},
     "output_type": "execute_result"
    }
   ],
   "source": [
    "# Display first 10 rows in training dataset\n",
    "train_df.head(10)"
   ]
  },
  {
   "cell_type": "code",
   "execution_count": 5,
   "id": "9478989f",
   "metadata": {
    "scrolled": true
   },
   "outputs": [
    {
     "data": {
      "text/plain": [
       "(90000, 9)"
      ]
     },
     "execution_count": 5,
     "metadata": {},
     "output_type": "execute_result"
    }
   ],
   "source": [
    "# Display the dimension of training dataset (rows & columns)\n",
    "train_df.shape"
   ]
  },
  {
   "cell_type": "code",
   "execution_count": 6,
   "id": "84cda0ef",
   "metadata": {
    "scrolled": false
   },
   "outputs": [
    {
     "name": "stdout",
     "output_type": "stream",
     "text": [
      "<class 'pandas.core.frame.DataFrame'>\n",
      "RangeIndex: 90000 entries, 0 to 89999\n",
      "Data columns (total 9 columns):\n",
      " #   Column          Non-Null Count  Dtype \n",
      "---  ------          --------------  ----- \n",
      " 0   unique_carrier  90000 non-null  object\n",
      " 1   origin          90000 non-null  object\n",
      " 2   destination     90000 non-null  object\n",
      " 3   is_delayed      90000 non-null  object\n",
      " 4   departure_time  90000 non-null  int64 \n",
      " 5   month           90000 non-null  object\n",
      " 6   day_of_month    90000 non-null  object\n",
      " 7   day_of_week     90000 non-null  object\n",
      " 8   distance        90000 non-null  int64 \n",
      "dtypes: int64(2), object(7)\n",
      "memory usage: 6.2+ MB\n"
     ]
    }
   ],
   "source": [
    "# Summary of the training dataset\n",
    "train_df.info()"
   ]
  },
  {
   "cell_type": "code",
   "execution_count": 7,
   "id": "2a4448aa",
   "metadata": {},
   "outputs": [
    {
     "data": {
      "text/plain": [
       "unique_carrier    0\n",
       "origin            0\n",
       "destination       0\n",
       "is_delayed        0\n",
       "departure_time    0\n",
       "month             0\n",
       "day_of_month      0\n",
       "day_of_week       0\n",
       "distance          0\n",
       "dtype: int64"
      ]
     },
     "execution_count": 7,
     "metadata": {},
     "output_type": "execute_result"
    }
   ],
   "source": [
    "# Check number of missing values in each column in training dataset\n",
    "train_df.isnull().sum()"
   ]
  },
  {
   "cell_type": "code",
   "execution_count": 8,
   "id": "e6c2a157",
   "metadata": {
    "scrolled": true
   },
   "outputs": [
    {
     "data": {
      "text/plain": [
       "N    72860\n",
       "Y    17140\n",
       "Name: is_delayed, dtype: int64"
      ]
     },
     "execution_count": 8,
     "metadata": {},
     "output_type": "execute_result"
    },
    {
     "data": {
      "image/png": "[encoded data removed]",
      "text/plain": [
       "<Figure size 432x288 with 1 Axes>"
      ]
     },
     "metadata": {
      "needs_background": "light"
     },
     "output_type": "display_data"
    }
   ],
   "source": [
    "# Value counts in 'is_delayed' column (Before encoding)\n",
    "train_df['is_delayed'].value_counts().plot(kind='bar')\n",
    "train_df['is_delayed'].value_counts()"
   ]
  },
  {
   "cell_type": "code",
   "execution_count": 9,
   "id": "32fbaaa6",
   "metadata": {},
   "outputs": [],
   "source": [
    "# Encode categorical values to numerical values using 'replace' function\n",
    "# Replace 'N' to 0\n",
    "# Replace 'Y' to 1\n",
    "train_df['is_delayed'].replace({'N': 0, 'Y': 1 }, inplace = True)"
   ]
  },
  {
   "cell_type": "code",
   "execution_count": 10,
   "id": "9d316d77",
   "metadata": {},
   "outputs": [
    {
     "data": {
      "text/plain": [
       "0    72860\n",
       "1    17140\n",
       "Name: is_delayed, dtype: int64"
      ]
     },
     "execution_count": 10,
     "metadata": {},
     "output_type": "execute_result"
    },
    {
     "data": {
      "image/png": "[encoded data removed]",
      "text/plain": [
       "<Figure size 432x288 with 1 Axes>"
      ]
     },
     "metadata": {
      "needs_background": "light"
     },
     "output_type": "display_data"
    }
   ],
   "source": [
    "# Value counts in 'is_delayed' column (After encoding)\n",
    "train_df['is_delayed'].value_counts().plot(kind='bar')\n",
    "train_df['is_delayed'].value_counts()"
   ]
  },
  {
   "cell_type": "markdown",
   "id": "7ce6f285",
   "metadata": {},
   "source": [
    "# Correlation between features and target variable"
   ]
  },
  {
   "cell_type": "code",
   "execution_count": 11,
   "id": "a9bf7117",
   "metadata": {
    "scrolled": false
   },
   "outputs": [
    {
     "data": {
      "text/html": [
       "<div>\n",
       "<style scoped>\n",
       "    .dataframe tbody tr th:only-of-type {\n",
       "        vertical-align: middle;\n",
       "    }\n",
       "\n",
       "    .dataframe tbody tr th {\n",
       "        vertical-align: top;\n",
       "    }\n",
       "\n",
       "    .dataframe thead th {\n",
       "        text-align: right;\n",
       "    }\n",
       "</style>\n",
       "<table border=\"1\" class=\"dataframe\">\n",
       "  <thead>\n",
       "    <tr style=\"text-align: right;\">\n",
       "      <th></th>\n",
       "      <th>is_delayed</th>\n",
       "      <th>departure_time</th>\n",
       "      <th>distance</th>\n",
       "    </tr>\n",
       "  </thead>\n",
       "  <tbody>\n",
       "    <tr>\n",
       "      <th>is_delayed</th>\n",
       "      <td>1.000000</td>\n",
       "      <td>0.243728</td>\n",
       "      <td>-0.003695</td>\n",
       "    </tr>\n",
       "    <tr>\n",
       "      <th>departure_time</th>\n",
       "      <td>0.243728</td>\n",
       "      <td>1.000000</td>\n",
       "      <td>-0.019832</td>\n",
       "    </tr>\n",
       "    <tr>\n",
       "      <th>distance</th>\n",
       "      <td>-0.003695</td>\n",
       "      <td>-0.019832</td>\n",
       "      <td>1.000000</td>\n",
       "    </tr>\n",
       "  </tbody>\n",
       "</table>\n",
       "</div>"
      ],
      "text/plain": [
       "                is_delayed  departure_time  distance\n",
       "is_delayed        1.000000        0.243728 -0.003695\n",
       "departure_time    0.243728        1.000000 -0.019832\n",
       "distance         -0.003695       -0.019832  1.000000"
      ]
     },
     "execution_count": 11,
     "metadata": {},
     "output_type": "execute_result"
    }
   ],
   "source": [
    "# Categorical variable : is_delayed\n",
    "# Continuous variables : departure_time, distance\n",
    "train_df.corr()"
   ]
  },
  {
   "cell_type": "code",
   "execution_count": 12,
   "id": "0acb16ed",
   "metadata": {
    "scrolled": true
   },
   "outputs": [
    {
     "data": {
      "image/png": "[encoded data removed]",
      "text/plain": [
       "<Figure size 432x288 with 2 Axes>"
      ]
     },
     "metadata": {
      "needs_background": "light"
     },
     "output_type": "display_data"
    }
   ],
   "source": [
    "# Correlation Heatmap\n",
    "sns.heatmap(train_df.corr(), annot=True, cmap='coolwarm')\n",
    "plt.show()"
   ]
  },
  {
   "cell_type": "code",
   "execution_count": 13,
   "id": "f1933558",
   "metadata": {
    "scrolled": true
   },
   "outputs": [
    {
     "data": {
      "image/png": "[encoded data removed]",
      "text/plain": [
       "<Figure size 432x288 with 1 Axes>"
      ]
     },
     "metadata": {
      "needs_background": "light"
     },
     "output_type": "display_data"
    }
   ],
   "source": [
    "# Point-Biserial Correlation\n",
    "plt.scatter(train_df['is_delayed'], train_df['departure_time'])\n",
    "\n",
    "plt.xlabel('Is Delayed')\n",
    "plt.ylabel('Departure Time')\n",
    "\n",
    "plt.show()"
   ]
  },
  {
   "cell_type": "code",
   "execution_count": 14,
   "id": "005f667b",
   "metadata": {},
   "outputs": [
    {
     "data": {
      "image/png": "[encoded data removed]",
      "text/plain": [
       "<Figure size 432x288 with 1 Axes>"
      ]
     },
     "metadata": {
      "needs_background": "light"
     },
     "output_type": "display_data"
    }
   ],
   "source": [
    "# Suitable to use Logistic Regression based on the scatter plot\n",
    "plt.scatter(train_df['departure_time'], train_df['is_delayed'])\n",
    "\n",
    "plt.xlabel('Departure Time')\n",
    "plt.ylabel('Is Delayed')\n",
    "\n",
    "plt.show()"
   ]
  },
  {
   "cell_type": "markdown",
   "id": "da65d53d",
   "metadata": {},
   "source": [
    "## Define Independent and Dependent Variable"
   ]
  },
  {
   "cell_type": "code",
   "execution_count": 15,
   "id": "d3bce6da",
   "metadata": {},
   "outputs": [],
   "source": [
    "X = train_df['departure_time']\n",
    "Y = train_df['is_delayed']"
   ]
  },
  {
   "cell_type": "markdown",
   "id": "f13f4838",
   "metadata": {},
   "source": [
    "## Data splitting"
   ]
  },
  {
   "cell_type": "code",
   "execution_count": 16,
   "id": "7d845d3f",
   "metadata": {},
   "outputs": [],
   "source": [
    "X_train, X_valid,Y_train, Y_valid = train_test_split(X, Y, test_size = 0.2, random_state=42)"
   ]
  },
  {
   "cell_type": "code",
   "execution_count": 17,
   "id": "25b25122",
   "metadata": {
    "scrolled": true
   },
   "outputs": [
    {
     "data": {
      "text/plain": [
       "Counter({0: 58233, 1: 13767})"
      ]
     },
     "execution_count": 17,
     "metadata": {},
     "output_type": "execute_result"
    }
   ],
   "source": [
    "# Class distribution before oversampling (Imbalanced)\n",
    "collections.Counter(Y_train)"
   ]
  },
  {
   "cell_type": "markdown",
   "id": "88aacc1e",
   "metadata": {},
   "source": [
    "## Oversampling "
   ]
  },
  {
   "cell_type": "code",
   "execution_count": 18,
   "id": "82cfc2cb",
   "metadata": {},
   "outputs": [],
   "source": [
    "# Reshape 'X_train' and 'Y_train' into 2-Dimension\n",
    "X_train= X_train.values.reshape(-1, 1)\n",
    "Y_train= Y_train.values.reshape(-1, 1)"
   ]
  },
  {
   "cell_type": "code",
   "execution_count": 19,
   "id": "b6ea0992",
   "metadata": {},
   "outputs": [],
   "source": [
    "# Oversampling(SMOTE)\n",
    "smote = SMOTE(random_state = 42)\n",
    "X_train_over,Y_train_over = smote.fit_resample(X_train, Y_train)"
   ]
  },
  {
   "cell_type": "code",
   "execution_count": 20,
   "id": "78fec642",
   "metadata": {
    "scrolled": true
   },
   "outputs": [
    {
     "data": {
      "text/plain": [
       "Counter({0: 58233, 1: 58233})"
      ]
     },
     "execution_count": 20,
     "metadata": {},
     "output_type": "execute_result"
    }
   ],
   "source": [
    "# Class distribution after oversampling (Balanced)\n",
    "collections.Counter(Y_train_over)"
   ]
  },
  {
   "cell_type": "code",
   "execution_count": 21,
   "id": "6dee25ec",
   "metadata": {},
   "outputs": [],
   "source": [
    "X_valid= X_valid.values.reshape(-1, 1)"
   ]
  },
  {
   "cell_type": "markdown",
   "id": "5a4987fb",
   "metadata": {},
   "source": [
    "# Modelling (Logistic Regression)"
   ]
  },
  {
   "cell_type": "code",
   "execution_count": 22,
   "id": "4f0a8a31",
   "metadata": {},
   "outputs": [],
   "source": [
    "# Logistic Regression\n",
    "lg = LogisticRegression(random_state=42)\n",
    "lg.fit(X_train_over, Y_train_over)\n",
    "Y_pred = lg.predict(X_valid)\n",
    "lg_accu = accuracy_score(Y_valid, Y_pred)"
   ]
  },
  {
   "cell_type": "markdown",
   "id": "7eb43e3e",
   "metadata": {},
   "source": [
    "# Results"
   ]
  },
  {
   "cell_type": "code",
   "execution_count": 23,
   "id": "4b8e72b7",
   "metadata": {
    "scrolled": true
   },
   "outputs": [
    {
     "name": "stdout",
     "output_type": "stream",
     "text": [
      "Logistic Regression Accuracy:  0.6213888888888889\n",
      "\n",
      "Classification Report:\n",
      "\n",
      "               precision    recall  f1-score   support\n",
      "\n",
      "           0       0.88      0.61      0.73     14627\n",
      "           1       0.28      0.65      0.39      3373\n",
      "\n",
      "    accuracy                           0.62     18000\n",
      "   macro avg       0.58      0.63      0.56     18000\n",
      "weighted avg       0.77      0.62      0.66     18000\n",
      "\n"
     ]
    }
   ],
   "source": [
    "print('Logistic Regression Accuracy: ', lg_accu)\n",
    "print(\"\\nClassification Report:\\n\\n\", classification_report(Y_valid, Y_pred))"
   ]
  },
  {
   "cell_type": "code",
   "execution_count": 24,
   "id": "d9681e59",
   "metadata": {},
   "outputs": [
    {
     "data": {
      "text/plain": [
       "array([[0.56043991, 0.43956009],\n",
       "       [0.57086095, 0.42913905],\n",
       "       [0.75450019, 0.24549981],\n",
       "       ...,\n",
       "       [0.35907161, 0.64092839],\n",
       "       [0.4748977 , 0.5251023 ],\n",
       "       [0.75067864, 0.24932136]])"
      ]
     },
     "execution_count": 24,
     "metadata": {},
     "output_type": "execute_result"
    }
   ],
   "source": [
    "lg.predict_proba(X_valid)"
   ]
  },
  {
   "cell_type": "code",
   "execution_count": 25,
   "id": "7798bfde",
   "metadata": {
    "scrolled": true
   },
   "outputs": [
    {
     "data": {
      "text/plain": [
       "18000"
      ]
     },
     "execution_count": 25,
     "metadata": {},
     "output_type": "execute_result"
    }
   ],
   "source": [
    "len(lg.predict_proba(X_valid))"
   ]
  },
  {
   "cell_type": "markdown",
   "id": "2a66ac4a",
   "metadata": {},
   "source": [
    "# Confusion Matrix"
   ]
  },
  {
   "cell_type": "code",
   "execution_count": 26,
   "id": "3090504e",
   "metadata": {},
   "outputs": [
    {
     "data": {
      "text/plain": [
       "array([[8995, 5632],\n",
       "       [1183, 2190]], dtype=int64)"
      ]
     },
     "execution_count": 26,
     "metadata": {},
     "output_type": "execute_result"
    }
   ],
   "source": [
    "# TN=0,0 ; FN=1,0 ; TP=1,1 ; FP=0,1\n",
    "cm_LG = confusion_matrix(Y_valid,Y_pred)\n",
    "cm_LG"
   ]
  },
  {
   "cell_type": "code",
   "execution_count": 27,
   "id": "d203dcf4",
   "metadata": {},
   "outputs": [
    {
     "data": {
      "image/png": "[encoded data removed]",
      "text/plain": [
       "<Figure size 432x288 with 2 Axes>"
      ]
     },
     "metadata": {
      "needs_background": "light"
     },
     "output_type": "display_data"
    }
   ],
   "source": [
    "matrix = plot_confusion_matrix(lg,X_valid,Y_valid,cmap=plt.cm.Blues)\n",
    "matrix.ax_.set_title('Confusion Matrix')\n",
    "plt.xlabel('Predicted')\n",
    "plt.ylabel('Actual')\n",
    "plt.gcf().axes[0].tick_params(color='black')\n",
    "plt.gcf().axes[1].tick_params(color='black')"
   ]
  },
  {
   "cell_type": "markdown",
   "id": "3d0a3145",
   "metadata": {},
   "source": [
    "## ROC Curve"
   ]
  },
  {
   "cell_type": "code",
   "execution_count": 28,
   "id": "7052f688",
   "metadata": {},
   "outputs": [],
   "source": [
    "lg_roc_auc = roc_auc_score(Y_valid, lg.predict(X_valid))\n",
    "fpr, tpr, threshold = roc_curve(Y_valid, lg.predict_proba(X_valid)[:,1])"
   ]
  },
  {
   "cell_type": "code",
   "execution_count": 29,
   "id": "fe4cd0d5",
   "metadata": {
    "scrolled": true
   },
   "outputs": [
    {
     "data": {
      "image/png": "[encoded data removed]",
      "text/plain": [
       "<Figure size 432x288 with 1 Axes>"
      ]
     },
     "metadata": {
      "needs_background": "light"
     },
     "output_type": "display_data"
    }
   ],
   "source": [
    "plt.plot(fpr, tpr, label=\"Logistic Regression (AUC = %0.2f)*\" %  lg_roc_auc )\n",
    "plt.plot([0,1],[0,1], 'r--')\n",
    "\n",
    "plt.xlabel('False Positive Rate (1 - Specificity)')\n",
    "plt.ylabel('True Positive Rate (Sensitivity)')\n",
    "\n",
    "plt.title('Receiver Operating Characteristic (ROC)')\n",
    "plt.legend(loc='lower right')\n",
    "plt.show()"
   ]
  },
  {
   "cell_type": "markdown",
   "id": "46d465e6",
   "metadata": {},
   "source": [
    "# Testing dataset"
   ]
  },
  {
   "cell_type": "code",
   "execution_count": 30,
   "id": "57ffd6df",
   "metadata": {
    "scrolled": true
   },
   "outputs": [
    {
     "data": {
      "text/html": [
       "<div>\n",
       "<style scoped>\n",
       "    .dataframe tbody tr th:only-of-type {\n",
       "        vertical-align: middle;\n",
       "    }\n",
       "\n",
       "    .dataframe tbody tr th {\n",
       "        vertical-align: top;\n",
       "    }\n",
       "\n",
       "    .dataframe thead th {\n",
       "        text-align: right;\n",
       "    }\n",
       "</style>\n",
       "<table border=\"1\" class=\"dataframe\">\n",
       "  <thead>\n",
       "    <tr style=\"text-align: right;\">\n",
       "      <th></th>\n",
       "      <th>unique_carrier</th>\n",
       "      <th>origin</th>\n",
       "      <th>destination</th>\n",
       "      <th>departure_time</th>\n",
       "      <th>month</th>\n",
       "      <th>day_of_month</th>\n",
       "      <th>day_of_week</th>\n",
       "      <th>distance</th>\n",
       "    </tr>\n",
       "  </thead>\n",
       "  <tbody>\n",
       "    <tr>\n",
       "      <th>0</th>\n",
       "      <td>RQ</td>\n",
       "      <td>OLV</td>\n",
       "      <td>TVQ</td>\n",
       "      <td>1605</td>\n",
       "      <td>M-7</td>\n",
       "      <td>D-24</td>\n",
       "      <td>W-7</td>\n",
       "      <td>952</td>\n",
       "    </tr>\n",
       "    <tr>\n",
       "      <th>1</th>\n",
       "      <td>NB</td>\n",
       "      <td>CLO</td>\n",
       "      <td>PRI</td>\n",
       "      <td>922</td>\n",
       "      <td>M-12</td>\n",
       "      <td>D-31</td>\n",
       "      <td>W-7</td>\n",
       "      <td>323</td>\n",
       "    </tr>\n",
       "    <tr>\n",
       "      <th>2</th>\n",
       "      <td>NB</td>\n",
       "      <td>PVQ</td>\n",
       "      <td>IQQ</td>\n",
       "      <td>1649</td>\n",
       "      <td>M-12</td>\n",
       "      <td>D-14</td>\n",
       "      <td>W-4</td>\n",
       "      <td>1056</td>\n",
       "    </tr>\n",
       "    <tr>\n",
       "      <th>3</th>\n",
       "      <td>WP</td>\n",
       "      <td>RJB</td>\n",
       "      <td>ULQ</td>\n",
       "      <td>1404</td>\n",
       "      <td>M-2</td>\n",
       "      <td>D-11</td>\n",
       "      <td>W-5</td>\n",
       "      <td>1557</td>\n",
       "    </tr>\n",
       "    <tr>\n",
       "      <th>4</th>\n",
       "      <td>NB</td>\n",
       "      <td>QTP</td>\n",
       "      <td>PQM</td>\n",
       "      <td>630</td>\n",
       "      <td>M-11</td>\n",
       "      <td>D-10</td>\n",
       "      <td>W-4</td>\n",
       "      <td>368</td>\n",
       "    </tr>\n",
       "    <tr>\n",
       "      <th>5</th>\n",
       "      <td>NB</td>\n",
       "      <td>TWP</td>\n",
       "      <td>RTQ</td>\n",
       "      <td>1857</td>\n",
       "      <td>M-8</td>\n",
       "      <td>D-5</td>\n",
       "      <td>W-5</td>\n",
       "      <td>189</td>\n",
       "    </tr>\n",
       "    <tr>\n",
       "      <th>6</th>\n",
       "      <td>TT</td>\n",
       "      <td>QFT</td>\n",
       "      <td>PVQ</td>\n",
       "      <td>1357</td>\n",
       "      <td>M-12</td>\n",
       "      <td>D-23</td>\n",
       "      <td>W-6</td>\n",
       "      <td>887</td>\n",
       "    </tr>\n",
       "    <tr>\n",
       "      <th>7</th>\n",
       "      <td>XJ</td>\n",
       "      <td>JNS</td>\n",
       "      <td>OEJ</td>\n",
       "      <td>940</td>\n",
       "      <td>M-6</td>\n",
       "      <td>D-24</td>\n",
       "      <td>W-6</td>\n",
       "      <td>725</td>\n",
       "    </tr>\n",
       "    <tr>\n",
       "      <th>8</th>\n",
       "      <td>NB</td>\n",
       "      <td>QTP</td>\n",
       "      <td>PTB</td>\n",
       "      <td>720</td>\n",
       "      <td>M-3</td>\n",
       "      <td>D-28</td>\n",
       "      <td>W-2</td>\n",
       "      <td>258</td>\n",
       "    </tr>\n",
       "    <tr>\n",
       "      <th>9</th>\n",
       "      <td>NB</td>\n",
       "      <td>OLV</td>\n",
       "      <td>ULQ</td>\n",
       "      <td>1610</td>\n",
       "      <td>M-3</td>\n",
       "      <td>D-5</td>\n",
       "      <td>W-7</td>\n",
       "      <td>290</td>\n",
       "    </tr>\n",
       "  </tbody>\n",
       "</table>\n",
       "</div>"
      ],
      "text/plain": [
       "  unique_carrier origin destination  departure_time month day_of_month  \\\n",
       "0             RQ    OLV         TVQ            1605   M-7         D-24   \n",
       "1             NB    CLO         PRI             922  M-12         D-31   \n",
       "2             NB    PVQ         IQQ            1649  M-12         D-14   \n",
       "3             WP    RJB         ULQ            1404   M-2         D-11   \n",
       "4             NB    QTP         PQM             630  M-11         D-10   \n",
       "5             NB    TWP         RTQ            1857   M-8          D-5   \n",
       "6             TT    QFT         PVQ            1357  M-12         D-23   \n",
       "7             XJ    JNS         OEJ             940   M-6         D-24   \n",
       "8             NB    QTP         PTB             720   M-3         D-28   \n",
       "9             NB    OLV         ULQ            1610   M-3          D-5   \n",
       "\n",
       "  day_of_week  distance  \n",
       "0         W-7       952  \n",
       "1         W-7       323  \n",
       "2         W-4      1056  \n",
       "3         W-5      1557  \n",
       "4         W-4       368  \n",
       "5         W-5       189  \n",
       "6         W-6       887  \n",
       "7         W-6       725  \n",
       "8         W-2       258  \n",
       "9         W-7       290  "
      ]
     },
     "execution_count": 30,
     "metadata": {},
     "output_type": "execute_result"
    }
   ],
   "source": [
    "# Display the first 10 rows in testing dataset\n",
    "test_df.head(10)"
   ]
  },
  {
   "cell_type": "code",
   "execution_count": 31,
   "id": "17ebd6cc",
   "metadata": {},
   "outputs": [
    {
     "data": {
      "text/plain": [
       "(10000, 8)"
      ]
     },
     "execution_count": 31,
     "metadata": {},
     "output_type": "execute_result"
    }
   ],
   "source": [
    "# Display the dimension of testing dataset (rows & columns)\n",
    "test_df.shape"
   ]
  },
  {
   "cell_type": "code",
   "execution_count": 32,
   "id": "c0ce291e",
   "metadata": {},
   "outputs": [
    {
     "name": "stdout",
     "output_type": "stream",
     "text": [
      "<class 'pandas.core.frame.DataFrame'>\n",
      "RangeIndex: 10000 entries, 0 to 9999\n",
      "Data columns (total 8 columns):\n",
      " #   Column          Non-Null Count  Dtype \n",
      "---  ------          --------------  ----- \n",
      " 0   unique_carrier  10000 non-null  object\n",
      " 1   origin          10000 non-null  object\n",
      " 2   destination     10000 non-null  object\n",
      " 3   departure_time  10000 non-null  int64 \n",
      " 4   month           10000 non-null  object\n",
      " 5   day_of_month    10000 non-null  object\n",
      " 6   day_of_week     10000 non-null  object\n",
      " 7   distance        10000 non-null  int64 \n",
      "dtypes: int64(2), object(6)\n",
      "memory usage: 625.1+ KB\n"
     ]
    }
   ],
   "source": [
    "# Summary of the testing dataset\n",
    "test_df.info()"
   ]
  },
  {
   "cell_type": "code",
   "execution_count": 33,
   "id": "864d4660",
   "metadata": {
    "scrolled": true
   },
   "outputs": [
    {
     "data": {
      "text/plain": [
       "unique_carrier    0\n",
       "origin            0\n",
       "destination       0\n",
       "departure_time    0\n",
       "month             0\n",
       "day_of_month      0\n",
       "day_of_week       0\n",
       "distance          0\n",
       "dtype: int64"
      ]
     },
     "execution_count": 33,
     "metadata": {},
     "output_type": "execute_result"
    }
   ],
   "source": [
    "# Check number of missing values in each column in testing dataset\n",
    "test_df.isnull().sum()"
   ]
  },
  {
   "cell_type": "code",
   "execution_count": 34,
   "id": "6f1cea85",
   "metadata": {},
   "outputs": [],
   "source": [
    "testing_X = test_df['departure_time']"
   ]
  },
  {
   "cell_type": "code",
   "execution_count": 35,
   "id": "a3a626bf",
   "metadata": {},
   "outputs": [],
   "source": [
    "testing_X = testing_X.values.reshape(-1,1)"
   ]
  },
  {
   "cell_type": "code",
   "execution_count": 36,
   "id": "a2a40f90",
   "metadata": {},
   "outputs": [],
   "source": [
    "testing_pred = lg.predict(testing_X)"
   ]
  },
  {
   "cell_type": "code",
   "execution_count": 37,
   "id": "ea71181d",
   "metadata": {},
   "outputs": [
    {
     "data": {
      "text/plain": [
       "array([[0.44229582, 0.55770418],\n",
       "       [0.66878473, 0.33121527],\n",
       "       [0.42750095, 0.57249905],\n",
       "       ...,\n",
       "       [0.59876002, 0.40123998],\n",
       "       [0.31126376, 0.68873624],\n",
       "       [0.75373905, 0.24626095]])"
      ]
     },
     "execution_count": 37,
     "metadata": {},
     "output_type": "execute_result"
    }
   ],
   "source": [
    "lg.predict_proba(testing_X)"
   ]
  },
  {
   "cell_type": "code",
   "execution_count": 38,
   "id": "590839ac",
   "metadata": {},
   "outputs": [
    {
     "data": {
      "text/plain": [
       "10000"
      ]
     },
     "execution_count": 38,
     "metadata": {},
     "output_type": "execute_result"
    }
   ],
   "source": [
    "len(lg.predict_proba(testing_X))"
   ]
  },
  {
   "cell_type": "code",
   "execution_count": 39,
   "id": "70ec8137",
   "metadata": {},
   "outputs": [],
   "source": [
    "testing_pred_df = pd.DataFrame({'departure_time': test_df['departure_time'],\n",
    "                               'is_delayed': testing_pred})\n"
   ]
  },
  {
   "cell_type": "code",
   "execution_count": 40,
   "id": "b93dd41c",
   "metadata": {},
   "outputs": [
    {
     "data": {
      "text/html": [
       "<div>\n",
       "<style scoped>\n",
       "    .dataframe tbody tr th:only-of-type {\n",
       "        vertical-align: middle;\n",
       "    }\n",
       "\n",
       "    .dataframe tbody tr th {\n",
       "        vertical-align: top;\n",
       "    }\n",
       "\n",
       "    .dataframe thead th {\n",
       "        text-align: right;\n",
       "    }\n",
       "</style>\n",
       "<table border=\"1\" class=\"dataframe\">\n",
       "  <thead>\n",
       "    <tr style=\"text-align: right;\">\n",
       "      <th></th>\n",
       "      <th>departure_time</th>\n",
       "      <th>is_delayed</th>\n",
       "    </tr>\n",
       "  </thead>\n",
       "  <tbody>\n",
       "    <tr>\n",
       "      <th>0</th>\n",
       "      <td>1605</td>\n",
       "      <td>1</td>\n",
       "    </tr>\n",
       "    <tr>\n",
       "      <th>1</th>\n",
       "      <td>922</td>\n",
       "      <td>0</td>\n",
       "    </tr>\n",
       "    <tr>\n",
       "      <th>2</th>\n",
       "      <td>1649</td>\n",
       "      <td>1</td>\n",
       "    </tr>\n",
       "    <tr>\n",
       "      <th>3</th>\n",
       "      <td>1404</td>\n",
       "      <td>0</td>\n",
       "    </tr>\n",
       "    <tr>\n",
       "      <th>4</th>\n",
       "      <td>630</td>\n",
       "      <td>0</td>\n",
       "    </tr>\n",
       "    <tr>\n",
       "      <th>5</th>\n",
       "      <td>1857</td>\n",
       "      <td>1</td>\n",
       "    </tr>\n",
       "    <tr>\n",
       "      <th>6</th>\n",
       "      <td>1357</td>\n",
       "      <td>0</td>\n",
       "    </tr>\n",
       "    <tr>\n",
       "      <th>7</th>\n",
       "      <td>940</td>\n",
       "      <td>0</td>\n",
       "    </tr>\n",
       "    <tr>\n",
       "      <th>8</th>\n",
       "      <td>720</td>\n",
       "      <td>0</td>\n",
       "    </tr>\n",
       "    <tr>\n",
       "      <th>9</th>\n",
       "      <td>1610</td>\n",
       "      <td>1</td>\n",
       "    </tr>\n",
       "  </tbody>\n",
       "</table>\n",
       "</div>"
      ],
      "text/plain": [
       "   departure_time  is_delayed\n",
       "0            1605           1\n",
       "1             922           0\n",
       "2            1649           1\n",
       "3            1404           0\n",
       "4             630           0\n",
       "5            1857           1\n",
       "6            1357           0\n",
       "7             940           0\n",
       "8             720           0\n",
       "9            1610           1"
      ]
     },
     "execution_count": 40,
     "metadata": {},
     "output_type": "execute_result"
    }
   ],
   "source": [
    "testing_pred_df.head(10)"
   ]
  },
  {
   "cell_type": "code",
   "execution_count": 41,
   "id": "3bc1b0f1",
   "metadata": {},
   "outputs": [
    {
     "data": {
      "text/plain": [
       "0    5690\n",
       "1    4310\n",
       "Name: is_delayed, dtype: int64"
      ]
     },
     "execution_count": 41,
     "metadata": {},
     "output_type": "execute_result"
    }
   ],
   "source": [
    "testing_pred_df['is_delayed'].value_counts()"
   ]
  },
  {
   "cell_type": "markdown",
   "id": "d579aa5a",
   "metadata": {},
   "source": [
    "# Single Point Prediction"
   ]
  },
  {
   "cell_type": "code",
   "execution_count": 42,
   "id": "a56a1d45",
   "metadata": {},
   "outputs": [],
   "source": [
    "single_arr = []\n",
    "\n",
    "def single_pt_pred():\n",
    "    for i in range (len(testing_X)):\n",
    "        single_pt = testing_X[i].reshape(-1,1)\n",
    "        predictions = lg.predict(single_pt)\n",
    "        predictions = predictions.tolist()\n",
    "        single_arr.append(predictions)"
   ]
  },
  {
   "cell_type": "code",
   "execution_count": 43,
   "id": "9fa1e7f7",
   "metadata": {},
   "outputs": [
    {
     "name": "stdout",
     "output_type": "stream",
     "text": [
      "[[1], [0], [1], [0], [0], [1], [0], [0], [0], [1], [1], [1], [1], [0], [0], [1], [0], [0], [0], [1], [1], [1], [1], [1], [1], [1], [0], [0], [1], [0], [1], [1], [1], [0], [1], [0], [1], [0], [1], [0], [0], [1], [0], [1], [0], [0], [1], [0], [0], [0], [1], [1], [0], [1], [0], [0], [1], [0], [0], [0], [0], [1], [0], [1], [0], [0], [0], [1], [0], [0], [1], [1], [0], [0], [0], [1], [0], [0], [0], [0], [0], [0], [0], [0], [1], [0], [1], [1], [1], [1], [1], [0], [0], [0], [0], [0], [0], [0], [0], [0], [0], [0], [0], [1], [1], [0], [0], [1], [0], [0], [0], [1], [0], [0], [1], [0], [0], [0], [0], [0], [0], [1], [0], [0], [1], [1], [1], [0], [1], [0], [0], [0], [0], [0], [0], [0], [0], [1], [1], [1], [0], [1], [0], [1], [0], [1], [0], [0], [1], [0], [0], [0], [0], [0], [0], [1], [0], [1], [1], [0], [0], [0], [1], [1], [1], [0], [0], [0], [0], [1], [0], [0], [0], [0], [0], [0], [1], [1], [0], [1], [0], [0], [0], [0], [1], [0], [0], [1], [1], [1], [1], [0], [0], [0], [1], [0], [1], [0], [1], [1], [0], [0], [1], [1], [0], [0], [0], [1], [1], [0], [1], [0], [1], [0], [0], [1], [1], [0], [0], [0], [1], [0], [0], [1], [0], [0], [1], [1], [0], [0], [1], [0], [1], [1], [0], [1], [0], [0], [0], [0], [0], [0], [1], [1], [0], [0], [1], [1], [0], [1], [0], [1], [1], [0], [0], [1], [0], [1], [1], [0], [1], [1], [0], [0], [1], [1], [0], [0], [0], [1], [0], [1], [1], [0], [0], [0], [0], [1], [1], [1], [1], [1], [1], [0], [0], [1], [0], [0], [1], [0], [0], [0], [1], [0], [1], [0], [1], [1], [0], [1], [1], [1], [1], [1], [0], [1], [0], [1], [0], [1], [0], [1], [1], [0], [1], [1], [0], [0], [0], [0], [0], [0], [0], [0], [0], [0], [1], [0], [1], [0], [0], [0], [0], [1], [0], [1], [0], [1], [0], [1], [0], [1], [0], [0], [0], [0], [1], [1], [1], [1], [0], [1], [0], [0], [1], [0], [1], [0], [0], [0], [0], [0], [0], [0], [1], [0], [1], [0], [0], [1], [1], [0], [0], [1], [1], [0], [0], [1], [1], [0], [0], [0], [1], [1], [1], [1], [0], [1], [0], [0], [0], [1], [1], [0], [0], [0], [1], [1], [0], [0], [0], [0], [0], [1], [0], [0], [0], [0], [0], [0], [0], [0], [1], [0], [1], [1], [0], [0], [1], [1], [0], [0], [1], [1], [1], [1], [0], [0], [0], [1], [0], [0], [0], [1], [1], [1], [0], [0], [1], [1], [0], [1], [0], [1], [1], [0], [0], [1], [1], [0], [0], [0], [1], [0], [1], [1], [0], [1], [1], [0], [0], [0], [0], [0], [1], [0], [1], [0], [1], [0], [0], [0], [1], [1], [1], [0], [0], [0], [1], [0], [1], [1], [0], [0], [1], [0], [1], [1], [0], [0], [0], [1], [0], [1], [0], [1], [0], [0], [1], [1], [1], [1], [0], [1], [0], [1], [0], [0], [0], [0], [0], [1], [1], [0], [0], [0], [0], [1], [1], [0], [1], [0], [0], [0], [1], [1], [0], [0], [1], [0], [1], [1], [0], [1], [1], [0], [0], [0], [0], [0], [1], [1], [0], [0], [1], [0], [0], [0], [0], [0], [1], [1], [1], [1], [0], [1], [0], [1], [0], [1], [1], [1], [0], [1], [0], [0], [1], [1], [0], [0], [1], [0], [1], [0], [1], [0], [0], [0], [1], [1], [0], [1], [0], [1], [0], [1], [0], [1], [1], [0], [0], [0], [0], [0], [1], [0], [1], [0], [1], [1], [1], [0], [0], [0], [0], [0], [1], [0], [0], [0], [0], [1], [0], [0], [1], [1], [0], [0], [1], [1], [1], [0], [1], [0], [0], [0], [1], [1], [1], [1], [0], [1], [1], [1], [0], [1], [0], [1], [0], [0], [1], [0], [0], [1], [1], [1], [0], [1], [0], [0], [1], [0], [1], [0], [0], [0], [1], [0], [0], [0], [1], [0], [1], [1], [1], [0], [0], [0], [1], [1], [0], [1], [0], [0], [0], [1], [0], [1], [0], [1], [1], [1], [1], [1], [0], [0], [1], [0], [0], [0], [1], [1], [1], [0], [1], [0], [0], [1], [0], [0], [1], [0], [0], [0], [0], [1], [1], [0], [0], [0], [0], [0], [0], [0], [1], [0], [1], [1], [1], [0], [0], [0], [0], [0], [1], [0], [0], [1], [1], [1], [0], [1], [0], [0], [0], [0], [0], [0], [0], [1], [1], [0], [0], [0], [0], [0], [1], [0], [0], [0], [0], [0], [0], [0], [1], [1], [1], [0], [0], [0], [0], [1], [1], [1], [1], [1], [0], [1], [0], [0], [0], [0], [0], [1], [0], [0], [1], [0], [1], [1], [1], [1], [0], [1], [0], [1], [1], [0], [1], [0], [0], [0], [1], [1], [0], [0], [1], [0], [0], [1], [0], [0], [0], [1], [0], [1], [0], [1], [1], [0], [0], [0], [1], [0], [1], [0], [0], [1], [0], [0], [1], [1], [0], [0], [0], [0], [1], [0], [1], [0], [1], [0], [1], [0], [0], [0], [0], [1], [0], [1], [1], [0], [1], [1], [0], [0], [1], [0], [1], [0], [0], [0], [0], [0], [0], [1], [0], [1], [0], [1], [0], [0], [0], [0], [1], [0], [0], [0], [1], [0], [1], [1], [0], [1], [0], [0], [0], [1], [1], [0], [1], [0], [0], [1], [0], [0], [0], [0], [0], [1], [1], [1], [0], [0], [0], [1], [0], [0], [1], [0], [0], [1], [0], [0], [0], [1], [0], [0], [0], [0], [0], [0], [1], [1], [1], [0], [1], [1], [0], [0], [0], [0], [0], [1], [1], [0], [0], [0], [1], [0], [1], [0], [1], [1], [0], [0], [1], [0], [1], [0], [0], [0], [0], [1], [0], [0], [1], [0], [1], [1], [1], [0], [1], [0], [0], [0], [0], [0], [1], [1], [1], [0], [0], [0], [0], [0], [1], [1], [0], [0], [0], [1], [0], [0], [0], [0], [0], [1], [0], [0], [1], [0], [1], [0], [0], [0], [0], [1], [0], [0], [0], [1], [1], [0], [1], [0], [0], [0], [0], [1], [0], [0], [0], [1], [0], [0], [0], [0], [1], [1], [1], [1], [0], [0], [0], [1], [0], [0], [1], [1], [1], [1], [1], [0], [0], [1], [0], [0], [1], [0], [1], [0], [1], [0], [0], [0], [1], [1], [0], [0], [0], [1], [1], [0], [0], [0], [0], [0], [0], [0], [1], [0], [1], [1], [1], [0], [0], [1], [1], [1], [0], [1], [0], [0], [1], [1], [0], [0], [0], [1], [0], [1], [1], [0], [0], [0], [1], [1], [1], [1], [0], [0], [0], [1], [0], [0], [1], [1], [0], [1], [0], [0], [0], [0], [0], [1], [0], [1], [0], [0], [0], [0], [0], [1], [0], [0], [1], [0], [0], [0], [0], [1], [1], [1], [1], [1], [0], [0], [1], [1], [0], [1], [0], [0], [0], [1], [1], [0], [0], [0], [1], [1], [1], [1], [0], [0], [0], [0], [1], [1], [1], [1], [0], [1], [0], [1], [0], [0], [1], [1], [1], [0], [1], [1], [0], [0], [0], [1], [0], [0], [1], [0], [1], [0], [0], [0], [0], [0], [0], [1], [1], [1], [0], [0], [1], [0], [0], [0], [0], [0], [1], [0], [1], [1], [0], [1], [1], [1], [0], [0], [1], [0], [0], [0], [1], [0], [0], [0], [1], [0], [1], [1], [0], [1], [0], [0], [0], [0], [0], [0], [1], [0], [1], [1], [0], [0], [0], [1], [1], [0], [1], [1], [1], [0], [0], [0], [1], [0], [0], [1], [1], [1], [1], [1], [0], [0], [0], [0], [0], [0], [1], [1], [0], [1], [1], [1], [1], [0], [1], [0], [1], [0], [1], [0], [1], [0], [1], [1], [1], [0], [0], [1], [0], [0], [1], [0], [0], [1], [0], [0], [1], [0], [1], [0], [0], [1], [0], [1], [1], [0], [1], [0], [0], [0], [1], [1], [1], [0], [1], [1], [1], [0], [1], [1], [1], [1], [0], [1], [1], [0], [0], [1], [0], [1], [0], [1], [0], [1], [0], [0], [0], [0], [0], [1], [0], [1], [0], [1], [1], [1], [1], [1], [0], [1], [0], [1], [0], [0], [0], [0], [0], [1], [0], [1], [1], [1], [1], [1], [0], [0], [1], [0], [1], [0], [1], [0], [0], [1], [1], [0], [0], [1], [0], [1], [1], [0], [1], [0], [0], [1], [0], [0], [0], [1], [1], [0], [0], [0], [1], [0], [1], [0], [1], [1], [1], [0], [0], [0], [1], [0], [0], [0], [0], [1], [0], [0], [0], [1], [0], [1], [1], [1], [0], [0], [0], [0], [1], [0], [0], [0], [0], [0], [1], [0], [0], [1], [0], [0], [0], [0], [1], [0], [0], [0], [1], [0], [0], [0], [0], [1], [1], [0], [1], [0], [0], [1], [0], [0], [0], [1], [0], [0], [0], [0], [0], [1], [1], [0], [1], [0], [0], [1], [0], [1], [1], [0], [1], [1], [1], [1], [0], [1], [1], [0], [0], [1], [1], [0], [1], [0], [1], [1], [0], [0], [0], [0], [0], [0], [0], [0], [1], [1], [1], [1], [0], [1], [1], [1], [0], [0], [0], [0], [1], [1], [1], [0], [1], [0], [1], [0], [0], [1], [1], [0], [0], [0], [1], [0], [1], [1], [1], [0], [0], [1], [0], [1], [1], [0], [1], [0], [0], [0], [0], [0], [0], [0], [1], [1], [0], [0], [1], [1], [1], [0], [0], [1], [1], [1], [1], [0], [1], [1], [0], [0], [0], [0], [1], [0], [0], [0], [1], [1], [0], [1], [0], [1], [0], [1], [1], [0], [0], [0], [1], [0], [0], [0], [0], [0], [1], [0], [0], [1], [0], [0], [0], [1], [0], [1], [1], [1], [0], [1], [0], [0], [0], [0], [0], [0], [0], [0], [1], [1], [0], [0], [0], [1], [1], [0], [0], [0], [1], [0], [0], [1], [0], [1], [0], [0], [1], [0], [0], [0], [1], [1], [1], [0], [1], [0], [0], [0], [0], [0], [1], [1], [1], [1], [0], [1], [1], [1], [0], [1], [0], [0], [0], [0], [1], [1], [0], [1], [0], [0], [1], [0], [0], [0], [0], [0], [1], [0], [0], [0], [0], [1], [0], [0], [0], [0], [0], [0], [0], [1], [1], [0], [1], [0], [1], [1], [0], [0], [1], [1], [1], [0], [0], [0], [0], [1], [0], [1], [0], [1], [0], [1], [0], [1], [0], [0], [0], [1], [1], [1], [1], [0], [1], [1], [1], [0], [0], [0], [0], [0], [1], [1], [0], [0], [1], [0], [0], [1], [0], [1], [1], [1], [0], [0], [1], [0], [1], [0], [1], [1], [1], [1], [0], [1], [1], [0], [1], [0], [0], [0], [1], [1], [0], [0], [1], [0], [1], [0], [0], [0], [0], [0], [0], [1], [0], [0], [1], [1], [0], [0], [1], [1], [0], [0], [1], [1], [0], [0], [0], [0], [1], [1], [1], [0], [1], [0], [1], [0], [1], [1], [0], [0], [0], [0], [1], [1], [1], [1], [0], [0], [1], [1], [0], [0], [1], [0], [0], [0], [1], [1], [0], [1], [1], [1], [0], [1], [1], [0], [1], [1], [1], [1], [0], [0], [1], [0], [0], [1], [0], [0], [1], [0], [1], [0], [1], [1], [0], [0], [1], [0], [0], [0], [0], [0], [1], [0], [0], [0], [0], [0], [0], [1], [0], [0], [0], [0], [0], [0], [0], [1], [0], [1], [1], [0], [1], [1], [0], [0], [1], [0], [0], [1], [1], [1], [0], [0], [1], [1], [0], [1], [0], [0], [0], [0], [0], [1], [1], [1], [1], [1], [0], [1], [1], [0], [0], [1], [1], [1], [0], [0], [1], [0], [0], [1], [1], [0], [0], [0], [0], [1], [0], [0], [0], [0], [0], [0], [1], [1], [1], [0], [0], [0], [0], [0], [0], [0], [0], [0], [0], [0], [1], [1], [1], [0], [1], [0], [1], [1], [1], [0], [1], [1], [1], [1], [1], [1], [0], [0], [1], [1], [0], [0], [1], [0], [0], [1], [0], [1], [0], [0], [0], [1], [0], [1], [1], [1], [0], [1], [1], [0], [1], [0], [1], [0], [1], [1], [1], [0], [0], [1], [0], [0], [0], [1], [0], [0], [0], [0], [1], [0], [1], [1], [1], [0], [0], [0], [1], [0], [1], [0], [1], [1], [1], [1], [0], [0], [0], [0], [1], [0], [1], [0], [1], [0], [0], [1], [1], [0], [0], [1], [0], [0], [0], [0], [1], [1], [0], [0], [0], [0], [0], [0], [1], [1], [0], [0], [1], [1], [1], [1], [0], [1], [0], [0], [0], [1], [1], [1], [0], [0], [1], [1], [1], [0], [0], [0], [0], [1], [1], [0], [1], [0], [0], [0], [0], [0], [1], [0], [0], [0], [0], [0], [0], [1], [1], [0], [1], [1], [0], [0], [1], [0], [1], [1], [1], [1], [0], [0], [0], [0], [0], [0], [0], [0], [0], [1], [1], [0], [0], [0], [0], [0], [1], [1], [1], [0], [1], [1], [0], [1], [1], [1], [1], [1], [0], [0], [0], [0], [0], [1], [0], [0], [0], [0], [0], [0], [0], [0], [0], [0], [0], [0], [1], [0], [1], [1], [0], [0], [0], [1], [1], [0], [1], [1], [1], [1], [1], [0], [0], [1], [1], [1], [0], [1], [1], [0], [0], [0], [0], [0], [0], [0], [1], [1], [0], [0], [0], [1], [0], [1], [0], [0], [1], [1], [1], [1], [1], [0], [1], [0], [1], [1], [1], [1], [1], [1], [1], [1], [1], [1], [0], [1], [0], [1], [1], [0], [1], [1], [0], [1], [1], [0], [1], [1], [1], [0], [1], [0], [0], [0], [0], [0], [1], [0], [0], [1], [0], [0], [1], [1], [1], [0], [0], [1], [0], [0], [0], [0], [1], [0], [0], [0], [1], [0], [0], [0], [0], [0], [0], [1], [1], [0], [1], [0], [0], [0], [1], [1], [0], [1], [1], [0], [1], [1], [0], [0], [0], [0], [0], [0], [1], [0], [0], [0], [1], [1], [0], [1], [0], [0], [1], [1], [1], [0], [0], [0], [1], [1], [0], [1], [0], [0], [1], [1], [1], [0], [0], [1], [1], [0], [1], [0], [0], [0], [1], [0], [0], [1], [0], [0], [0], [0], [1], [1], [1], [1], [0], [1], [0], [0], [1], [1], [1], [0], [0], [1], [0], [0], [0], [1], [0], [0], [1], [1], [0], [0], [1], [0], [0], [0], [1], [0], [0], [1], [0], [1], [0], [1], [0], [0], [1], [0], [1], [1], [0], [0], [0], [1], [0], [0], [1], [0], [0], [0], [0], [1], [1], [1], [1], [0], [1], [1], [1], [0], [0], [0], [0], [0], [0], [0], [1], [0], [0], [0], [1], [0], [1], [1], [1], [1], [1], [0], [0], [0], [0], [1], [1], [1], [0], [0], [0], [0], [1], [0], [1], [0], [0], [1], [0], [0], [1], [0], [1], [0], [1], [0], [0], [0], [0], [1], [1], [1], [1], [1], [1], [0], [0], [0], [0], [1], [0], [1], [1], [1], [0], [0], [1], [0], [0], [0], [1], [1], [0], [1], [0], [0], [0], [1], [0], [0], [1], [0], [0], [0], [0], [1], [1], [0], [0], [0], [0], [1], [1], [1], [0], [0], [1], [0], [0], [0], [0], [0], [0], [0], [0], [1], [0], [1], [0], [1], [0], [0], [0], [0], [0], [0], [0], [1], [0], [0], [1], [1], [1], [0], [1], [1], [0], [0], [0], [1], [0], [0], [0], [0], [0], [1], [1], [0], [0], [0], [1], [0], [0], [0], [1], [0], [1], [0], [0], [0], [0], [1], [1], [0], [1], [1], [0], [1], [0], [1], [1], [1], [0], [0], [1], [0], [0], [1], [1], [0], [1], [0], [0], [1], [0], [0], [0], [0], [1], [0], [1], [1], [0], [0], [1], [0], [1], [1], [0], [0], [0], [0], [1], [0], [1], [0], [1], [1], [0], [0], [1], [0], [0], [0], [0], [1], [1], [0], [0], [0], [1], [1], [0], [1], [1], [1], [0], [0], [0], [0], [0], [1], [1], [0], [0], [1], [0], [1], [0], [0], [0], [0], [0], [1], [0], [0], [0], [1], [1], [0], [0], [0], [0], [1], [0], [0], [0], [0], [1], [0], [1], [0], [0], [1], [1], [0], [1], [1], [0], [1], [0], [1], [1], [0], [1], [0], [0], [0], [0], [1], [0], [1], [0], [0], [0], [0], [1], [0], [0], [0], [1], [0], [1], [0], [1], [0], [1], [1], [0], [1], [1], [0], [1], [0], [0], [0], [1], [1], [0], [0], [0], [1], [0], [1], [0], [0], [0], [1], [0], [1], [1], [1], [1], [1], [0], [0], [0], [1], [1], [0], [0], [1], [0], [0], [1], [0], [1], [1], [0], [1], [1], [0], [0], [0], [1], [0], [0], [0], [1], [0], [1], [1], [1], [1], [1], [1], [1], [1], [1], [0], [0], [1], [0], [1], [1], [0], [1], [0], [1], [1], [0], [0], [1], [0], [0], [0], [1], [0], [1], [0], [0], [1], [0], [0], [0], [0], [1], [0], [0], [0], [0], [1], [0], [0], [1], [0], [0], [1], [1], [1], [1], [0], [1], [0], [0], [0], [0], [0], [0], [0], [0], [1], [0], [0], [0], [0], [1], [0], [1], [1], [0], [0], [0], [0], [0], [0], [1], [0], [0], [0], [1], [0], [0], [1], [1], [0], [0], [1], [0], [0], [0], [1], [1], [0], [0], [0], [1], [0], [0], [1], [0], [0], [1], [0], [0], [0], [0], [0], [0], [0], [0], [1], [0], [0], [0], [0], [1], [0], [0], [1], [1], [1], [0], [0], [0], [1], [0], [0], [0], [1], [0], [1], [1], [0], [0], [1], [0], [0], [1], [1], [0], [0], [1], [0], [0], [1], [0], [0], [1], [0], [0], [1], [1], [1], [0], [1], [1], [0], [1], [1], [0], [0], [0], [0], [1], [0], [1], [0], [0], [1], [0], [0], [1], [1], [0], [0], [0], [1], [0], [1], [0], [0], [0], [0], [1], [1], [0], [0], [1], [1], [0], [1], [1], [1], [0], [0], [0], [0], [1], [0], [0], [1], [0], [0], [1], [1], [0], [1], [1], [1], [1], [1], [0], [0], [0], [0], [0], [1], [1], [1], [0], [1], [0], [0], [0], [0], [1], [0], [1], [1], [1], [1], [0], [0], [1], [0], [0], [0], [1], [1], [0], [0], [1], [0], [0], [0], [1], [1], [1], [1], [1], [1], [0], [0], [1], [1], [1], [1], [1], [1], [1], [0], [1], [1], [0], [1], [0], [0], [1], [1], [0], [0], [0], [0], [0], [0], [1], [1], [0], [1], [0], [0], [1], [1], [0], [0], [0], [1], [0], [0], [1], [1], [1], [0], [0], [1], [0], [1], [0], [0], [0], [1], [0], [1], [1], [0], [0], [1], [0], [1], [0], [0], [1], [0], [1], [1], [0], [0], [0], [0], [1], [1], [0], [1], [0], [0], [0], [0], [1], [0], [1], [0], [1], [1], [0], [1], [0], [1], [1], [1], [0], [0], [0], [1], [0], [1], [1], [0], [1], [0], [0], [1], [1], [0], [0], [0], [0], [1], [1], [0], [0], [0], [0], [0], [0], [1], [0], [0], [1], [0], [0], [0], [1], [0], [0], [0], [0], [0], [0], [0], [0], [0], [0], [1], [1], [0], [1], [0], [0], [1], [0], [0], [0], [1], [0], [1], [1], [0], [1], [1], [1], [0], [1], [1], [0], [0], [1], [0], [1], [0], [0], [0], [1], [1], [0], [0], [1], [0], [0], [0], [0], [0], [0], [1], [0], [0], [1], [0], [0], [0], [1], [1], [0], [1], [1], [0], [0], [1], [0], [1], [1], [0], [1], [0], [1], [0], [0], [1], [1], [0], [1], [1], [0], [0], [1], [1], [0], [0], [1], [0], [0], [1], [1], [0], [0], [0], [0], [0], [0], [1], [0], [1], [1], [1], [0], [0], [1], [1], [1], [0], [1], [0], [1], [1], [1], [0], [0], [1], [0], [1], [1], [1], [0], [0], [0], [0], [0], [1], [1], [0], [0], [1], [0], [0], [0], [1], [1], [0], [1], [1], [1], [0], [0], [0], [1], [1], [1], [1], [0], [0], [0], [0], [1], [0], [0], [0], [1], [1], [0], [0], [1], [1], [0], [0], [0], [0], [1], [0], [0], [0], [1], [1], [1], [0], [1], [0], [0], [0], [1], [1], [0], [1], [0], [0], [1], [1], [0], [0], [0], [0], [0], [0], [0], [0], [0], [0], [0], [1], [0], [1], [1], [1], [1], [1], [0], [0], [1], [1], [0], [0], [1], [0], [0], [1], [1], [0], [0], [1], [1], [0], [0], [1], [1], [0], [1], [0], [0], [1], [0], [0], [1], [1], [0], [1], [1], [1], [0], [0], [0], [1], [1], [1], [1], [0], [1], [0], [1], [0], [0], [0], [0], [1], [0], [1], [0], [1], [0], [0], [1], [0], [0], [1], [0], [0], [0], [1], [1], [0], [0], [1], [1], [0], [0], [1], [0], [0], [0], [1], [1], [0], [1], [0], [1], [0], [1], [0], [1], [1], [0], [0], [1], [0], [1], [0], [0], [0], [0], [1], [1], [0], [0], [1], [1], [0], [0], [1], [1], [0], [1], [0], [1], [0], [1], [0], [1], [0], [0], [1], [0], [1], [0], [0], [0], [0], [1], [0], [0], [1], [0], [1], [1], [0], [1], [0], [1], [0], [1], [0], [0], [1], [1], [0], [1], [0], [1], [0], [1], [1], [0], [0], [1], [1], [0], [0], [1], [0], [1], [0], [1], [0], [1], [0], [1], [0], [1], [0], [0], [1], [1], [0], [0], [0], [0], [1], [1], [1], [1], [1], [1], [0], [0], [1], [1], [1], [1], [1], [1], [1], [1], [1], [1], [0], [1], [0], [0], [0], [0], [0], [0], [0], [0], [1], [0], [0], [1], [1], [0], [0], [1], [1], [1], [0], [1], [0], [0], [0], [1], [1], [0], [1], [1], [1], [0], [1], [0], [1], [0], [1], [0], [1], [0], [1], [1], [0], [1], [0], [1], [0], [0], [0], [0], [0], [0], [0], [1], [0], [0], [1], [0], [1], [0], [0], [0], [0], [0], [0], [1], [0], [0], [0], [1], [1], [1], [0], [1], [0], [1], [1], [0], [0], [0], [0], [1], [0], [0], [0], [1], [1], [0], [0], [1], [1], [0], [1], [1], [0], [1], [0], [0], [0], [1], [0], [0], [1], [0], [0], [1], [0], [1], [1], [1], [0], [0], [1], [1], [0], [0], [0], [0], [0], [0], [1], [0], [0], [0], [1], [0], [1], [1], [1], [0], [1], [0], [1], [0], [0], [1], [0], [0], [0], [1], [1], [1], [0], [0], [0], [1], [0], [1], [0], [0], [0], [1], [0], [0], [1], [1], [0], [0], [0], [0], [0], [0], [0], [0], [0], [0], [0], [0], [0], [1], [1], [1], [1], [1], [1], [1], [0], [0], [0], [0], [0], [0], [1], [0], [0], [0], [0], [0], [0], [0], [0], [1], [0], [0], [0], [0], [0], [0], [1], [0], [1], [0], [0], [0], [0], [0], [1], [0], [0], [0], [1], [0], [1], [0], [1], [0], [0], [1], [1], [1], [1], [1], [1], [0], [0], [1], [0], [1], [0], [0], [0], [0], [1], [0], [0], [1], [0], [0], [1], [0], [1], [0], [0], [1], [0], [1], [1], [0], [0], [1], [0], [0], [0], [0], [0], [1], [0], [1], [0], [0], [1], [1], [1], [0], [1], [1], [1], [1], [0], [1], [1], [1], [1], [1], [1], [1], [0], [1], [0], [1], [0], [1], [0], [0], [0], [0], [1], [1], [1], [0], [1], [1], [0], [0], [0], [0], [0], [0], [1], [1], [1], [1], [0], [1], [0], [0], [0], [0], [0], [0], [1], [0], [1], [0], [0], [1], [1], [1], [1], [0], [0], [0], [0], [0], [0], [1], [0], [0], [1], [0], [0], [0], [1], [1], [0], [1], [0], [1], [0], [0], [0], [1], [1], [0], [0], [0], [0], [1], [0], [0], [0], [1], [0], [1], [0], [0], [0], [1], [0], [1], [0], [0], [0], [0], [0], [0], [0], [0], [1], [1], [0], [0], [1], [0], [0], [0], [1], [1], [1], [0], [1], [0], [1], [0], [0], [1], [1], [1], [0], [0], [0], [1], [1], [0], [1], [0], [0], [1], [1], [1], [1], [1], [1], [1], [1], [0], [0], [1], [1], [1], [1], [0], [1], [0], [1], [0], [0], [1], [1], [0], [1], [1], [1], [0], [1], [1], [1], [0], [0], [1], [0], [1], [0], [1], [0], [0], [0], [1], [1], [0], [1], [0], [1], [1], [0], [0], [0], [0], [1], [0], [0], [0], [1], [1], [1], [1], [1], [1], [1], [0], [0], [0], [0], [1], [0], [0], [0], [1], [1], [1], [1], [0], [0], [0], [0], [0], [0], [0], [0], [1], [0], [0], [0], [0], [0], [1], [0], [0], [0], [1], [0], [0], [1], [0], [1], [0], [1], [0], [0], [1], [1], [0], [1], [1], [1], [1], [0], [0], [0], [1], [0], [1], [0], [1], [0], [0], [0], [0], [1], [0], [1], [1], [0], [1], [0], [1], [1], [0], [1], [0], [1], [1], [0], [0], [0], [0], [1], [0], [1], [1], [0], [0], [1], [0], [1], [1], [0], [0], [1], [0], [0], [1], [1], [0], [1], [0], [0], [0], [0], [1], [0], [0], [1], [0], [1], [1], [0], [0], [0], [0], [1], [1], [0], [0], [0], [1], [0], [1], [0], [0], [0], [0], [1], [0], [0], [0], [1], [0], [0], [1], [1], [1], [0], [0], [0], [0], [0], [1], [0], [1], [0], [1], [1], [0], [0], [1], [1], [0], [0], [0], [0], [1], [0], [0], [0], [0], [0], [0], [0], [1], [1], [0], [1], [1], [1], [0], [0], [0], [0], [0], [0], [0], [0], [1], [0], [0], [0], [1], [1], [1], [1], [0], [0], [0], [0], [1], [0], [0], [0], [1], [0], [1], [1], [0], [0], [1], [1], [1], [1], [1], [1], [1], [0], [1], [0], [1], [0], [0], [1], [1], [0], [0], [1], [0], [0], [0], [1], [0], [1], [0], [1], [1], [0], [1], [0], [0], [0], [0], [1], [1], [0], [0], [1], [0], [1], [0], [0], [1], [1], [1], [0], [0], [0], [0], [0], [1], [0], [0], [0], [1], [1], [0], [1], [1], [0], [0], [0], [0], [1], [0], [0], [0], [1], [0], [1], [0], [1], [1], [1], [0], [0], [1], [0], [1], [1], [1], [1], [1], [0], [0], [0], [0], [0], [0], [1], [0], [0], [0], [0], [0], [0], [0], [0], [0], [0], [0], [1], [0], [0], [0], [1], [0], [1], [0], [1], [1], [0], [1], [0], [0], [0], [0], [0], [0], [1], [0], [0], [1], [0], [1], [1], [1], [0], [0], [1], [0], [1], [1], [1], [0], [0], [0], [1], [0], [1], [1], [1], [1], [1], [1], [1], [1], [0], [0], [1], [1], [0], [0], [0], [0], [1], [0], [0], [0], [0], [0], [0], [0], [1], [1], [0], [0], [0], [1], [1], [1], [0], [0], [1], [0], [1], [0], [1], [1], [0], [0], [0], [1], [0], [0], [1], [0], [0], [0], [0], [0], [1], [0], [1], [0], [0], [1], [0], [0], [1], [0], [1], [1], [0], [0], [0], [1], [0], [0], [1], [0], [0], [0], [1], [0], [1], [1], [0], [0], [1], [0], [1], [0], [0], [0], [0], [1], [1], [1], [0], [0], [1], [1], [0], [0], [1], [1], [1], [1], [1], [0], [0], [0], [0], [1], [1], [0], [0], [1], [0], [0], [0], [0], [1], [0], [1], [0], [0], [0], [1], [0], [0], [1], [1], [1], [0], [1], [0], [1], [0], [1], [1], [0], [1], [1], [0], [0], [1], [0], [1], [1], [0], [1], [1], [1], [1], [1], [1], [1], [1], [0], [0], [1], [1], [0], [1], [0], [1], [0], [0], [1], [0], [0], [0], [1], [1], [1], [0], [0], [0], [0], [1], [1], [0], [1], [0], [1], [0], [0], [0], [1], [1], [1], [0], [0], [1], [1], [0], [1], [0], [1], [0], [1], [0], [0], [1], [1], [1], [0], [0], [1], [1], [1], [0], [1], [1], [1], [0], [0], [1], [1], [0], [0], [0], [0], [1], [0], [1], [0], [0], [0], [0], [0], [0], [1], [1], [0], [0], [0], [1], [1], [1], [1], [1], [1], [0], [0], [1], [1], [1], [1], [0], [0], [0], [1], [1], [1], [1], [1], [1], [0], [0], [0], [1], [1], [1], [1], [0], [0], [0], [0], [0], [0], [1], [0], [0], [0], [1], [0], [0], [1], [1], [1], [0], [0], [0], [0], [1], [0], [0], [1], [0], [1], [1], [0], [0], [0], [0], [1], [0], [1], [1], [0], [1], [1], [1], [0], [0], [1], [0], [0], [1], [0], [0], [1], [0], [1], [0], [0], [0], [0], [1], [0], [1], [0], [0], [1], [0], [0], [0], [1], [1], [1], [0], [0], [0], [0], [0], [1], [1], [0], [0], [0], [0], [1], [1], [0], [1], [0], [0], [1], [1], [0], [1], [0], [1], [1], [1], [0], [0], [1], [0], [0], [1], [0], [1], [1], [0], [0], [1], [1], [0], [1], [0], [0], [0], [1], [0], [1], [1], [0], [0], [0], [1], [1], [0], [1], [0], [1], [0], [1], [0], [0], [0], [1], [1], [1], [0], [0], [0], [0], [1], [0], [1], [1], [0], [0], [0], [1], [1], [1], [0], [1], [0], [0], [1], [0], [1], [1], [0], [1], [0], [0], [1], [0], [0], [0], [1], [0], [1], [0], [0], [1], [0], [1], [1], [0], [1], [0], [1], [1], [0], [1], [1], [0], [0], [1], [1], [0], [0], [1], [1], [0], [1], [1], [0], [1], [0], [0], [0], [0], [1], [0], [0], [0], [0], [0], [0], [1], [1], [1], [0], [1], [0], [0], [0], [1], [1], [0], [1], [0], [0], [0], [0], [0], [0], [0], [0], [1], [0], [0], [0], [1], [1], [0], [1], [1], [1], [1], [0], [0], [1], [0], [0], [1], [1], [1], [0], [0], [0], [0], [1], [0], [1], [1], [1], [0], [1], [0], [0], [1], [1], [1], [0], [0], [0], [0], [0], [1], [1], [0], [1], [1], [0], [0], [1], [1], [0], [1], [0], [1], [1], [0], [1], [1], [0], [0], [1], [1], [1], [1], [0], [1], [1], [0], [1], [1], [0], [1], [0], [0], [1], [0], [1], [0], [1], [1], [1], [0], [1], [0], [0], [0], [1], [1], [0], [1], [1], [1], [0], [1], [0], [0], [1], [1], [0], [0], [0], [1], [1], [0], [0], [0], [1], [1], [1], [1], [1], [1], [1], [0], [0], [0], [0], [1], [0], [0], [1], [1], [1], [0], [1], [1], [1], [1], [0], [1], [1], [1], [0], [1], [1], [1], [1], [0], [0], [1], [0], [1], [0], [0], [1], [1], [1], [0], [0], [0], [1], [0], [0], [1], [0], [0], [0], [1], [0], [1], [1], [0], [1], [0], [0], [0], [1], [0], [0], [1], [0], [0], [1], [1], [1], [1], [0], [0], [0], [0], [0], [0], [0], [0], [0], [1], [0], [1], [0], [0], [1], [1], [1], [0], [0], [0], [1], [0], [0], [0], [0], [0], [0], [0], [1], [0], [1], [1], [1], [1], [0], [0], [1], [0], [0], [0], [0], [1], [0], [1], [0], [1], [0], [0], [0], [0], [0], [1], [0], [0], [0], [0], [0], [0], [1], [1], [0], [1], [1], [0], [1], [1], [0], [0], [0], [1], [1], [0], [0], [0], [0], [1], [1], [0], [0], [0], [1], [1], [0], [0], [1], [0], [0], [1], [0], [1], [0], [1], [0], [1], [0], [0], [0], [1], [0], [0], [0], [0], [0], [0], [0], [0], [1], [0], [0], [0], [1], [1], [1], [0], [0], [1], [0], [0], [1], [0], [1], [1], [1], [1], [0], [0], [1], [0], [1], [1], [0], [0], [1], [0], [0], [0], [1], [0], [0], [1], [0], [1], [0], [1], [1], [1], [1], [0], [0], [1], [0], [0], [1], [1], [0], [0], [1], [0], [0], [1], [1], [1], [0], [0], [0], [1], [1], [1], [1], [0], [0], [0], [1], [0], [0], [1], [0], [0], [1], [0], [1], [0], [0], [1], [0], [0], [0], [0], [0], [0], [0], [0], [0], [1], [1], [0], [0], [0], [1], [0], [0], [0], [0], [0], [1], [0], [1], [1], [0], [0], [0], [1], [0], [1], [1], [0], [0], [0], [1], [1], [1], [1], [0], [0], [0], [0], [1], [0], [0], [1], [1], [0], [0], [0], [0], [1], [0], [1], [0], [0], [1], [0], [0], [1], [0], [1], [0], [0], [0], [0], [0], [0], [0], [0], [1], [1], [1], [1], [0], [0], [0], [0], [1], [1], [1], [0], [0], [0], [1], [1], [1], [0], [0], [1], [1], [0], [0], [1], [0], [1], [1], [1], [0], [0], [0], [0], [0], [0], [1], [1], [1], [1], [0], [1], [0], [0], [1], [0], [0], [1], [1], [1], [1], [0], [0], [0], [1], [0], [1], [0], [0], [0], [0], [0], [0], [0], [1], [0], [0], [1], [1], [0], [1], [1], [0], [0], [1], [0], [0], [1], [0], [0], [1], [0], [1], [0], [1], [0], [0], [0], [0], [0], [1], [0], [0], [1], [0], [0], [0], [0], [1], [0], [0], [0], [0], [0], [0], [0], [0], [0], [0], [1], [0], [1], [0], [0], [0], [0], [1], [1], [0], [1], [0], [0], [1], [1], [1], [1], [1], [0], [1], [1], [1], [1], [1], [0], [0], [0], [0], [1], [1], [1], [0], [1], [0], [1], [0], [0], [0], [0], [1], [0], [1], [0], [0], [1], [0], [1], [0], [0], [1], [1], [1], [1], [0], [0], [1], [0], [0], [1], [0], [0], [1], [0], [0], [1], [1], [0], [0], [1], [0], [1], [1], [0], [0], [0], [0], [1], [1], [1], [0], [0], [0], [1], [1], [1], [0], [0], [0], [0], [0], [1], [1], [0], [0], [1], [1], [1], [0], [0], [1], [1], [1], [1], [0], [0], [0], [0], [0], [1], [0], [0], [1], [1], [0], [0], [0], [0], [0], [1], [1], [1], [1], [1], [0], [0], [1], [1], [0], [0], [1], [1], [0], [0], [0], [0], [0], [0], [0], [1], [0], [0], [1], [0], [0], [1], [1], [0], [0], [0], [0], [1], [1], [0], [0], [1], [0], [1], [0], [1], [1], [0], [0], [1], [1], [0], [0], [1], [1], [0], [1], [1], [1], [1], [1], [0], [0], [1], [0], [1], [1], [0], [0], [1], [0], [1], [1], [1], [1], [0], [0], [1], [1], [0], [0], [1], [0], [0], [0], [1], [0], [0], [0], [1], [0], [0], [1], [0], [0], [1], [1], [0], [0], [0], [1], [1], [1], [0], [0], [0], [0], [0], [1], [1], [1], [1], [0], [0], [0], [0], [0], [0], [1], [1], [0], [0], [1], [0], [1], [0], [0], [0], [1], [0], [0], [1], [0], [1], [1], [0], [1], [0], [0], [0], [0], [1], [0], [1], [1], [0], [0], [0], [0], [1], [0], [1], [0], [0], [1], [1], [0], [1], [0], [0], [1], [0], [0], [0], [0], [1], [1], [1], [1], [1], [1], [1], [1], [0], [0], [1], [0], [1], [0], [0], [0], [0], [1], [0], [0], [0], [0], [0], [0], [0], [0], [1], [0], [1], [1], [1], [0], [1], [1], [0], [1], [1], [1], [0], [1], [1], [1], [0], [0], [0], [0], [0], [1], [0], [1], [0], [1], [1], [0], [1], [1], [0], [1], [1], [1], [1], [0], [1], [1], [1], [0], [0], [1], [0], [1], [1], [1], [0], [0], [0], [1], [0], [1], [1], [1], [0], [0], [0], [0], [0], [0], [0], [0], [0], [0], [1], [0], [0], [0], [0], [0], [0], [1], [1], [0], [0], [0], [1], [1], [1], [0], [0], [1], [0], [0], [0], [0], [1], [0], [0], [1], [0], [1], [0], [0], [1], [0], [1], [0], [0], [1], [0], [1], [1], [1], [0], [0], [1], [1], [0], [1], [0], [0], [0], [0], [0], [1], [0], [0], [1], [0], [0], [1], [0], [1], [0], [0], [0], [0], [1], [1], [0], [1], [0], [0], [1], [1], [0], [0], [0], [0], [0], [1], [1], [0], [1], [0], [1], [1], [1], [0], [0], [0], [0], [0], [0], [1], [0], [0], [0], [1], [1], [0], [0], [0], [0], [0], [0], [0], [0], [1], [1], [1], [0], [0], [0], [0], [1], [1], [1], [1], [1], [0], [1], [0], [0], [0], [0], [0], [0], [1], [0], [0], [0], [0], [0], [0], [0], [1], [0], [0], [0], [1], [0], [1], [1], [0], [1], [0], [0], [0], [1], [1], [1], [1], [1], [1], [1], [1], [1], [0], [0], [0], [0], [0], [1], [1], [1], [0], [0], [1], [0], [1], [0], [1], [0], [1], [1], [0], [1], [0], [1], [1], [1], [1], [1], [1], [0], [0], [1], [0], [0], [0], [0], [0], [0], [1], [0], [1], [0], [0], [1], [1], [0], [0], [0], [1], [1], [1], [1], [0], [0], [0], [1], [1], [0], [1], [0], [1], [1], [1], [1], [0], [0], [1], [0], [1], [0], [0], [1], [0], [1], [0], [0], [1], [0], [0], [1], [0], [0], [0], [1], [0], [0], [0], [1], [1], [0], [0], [1], [1], [1], [1], [0], [0], [0], [1], [0], [0], [1], [0], [0], [1], [1], [0], [1], [1], [1], [1], [1], [1], [1], [0], [1], [0], [0], [1], [1], [0], [0], [1], [1], [0], [0], [1], [1], [1], [0], [0], [1], [1], [0], [1], [1], [1], [0], [1], [0], [1], [0], [0], [0], [1], [1], [0], [0], [0], [1], [0], [1], [0], [1], [0], [0], [1], [0], [1], [0], [1], [0], [0], [1], [1], [0], [0], [0], [0], [0], [0], [0], [1], [0], [0], [1], [1], [0], [0], [1], [1], [0], [0], [1], [0], [1], [1], [0], [0], [0], [0], [0], [1], [0], [0], [1], [0], [1], [0], [0], [1], [1], [0], [0], [1], [1], [0], [1], [0], [1], [0], [1], [1], [0], [0], [0], [1], [1], [0], [1], [0], [0], [1], [0], [0], [0], [0], [0], [0], [0], [1], [0], [0], [1], [1], [1], [0], [1], [0], [0], [0], [0], [0], [0], [0], [0], [1], [0], [0], [0], [1], [1], [1], [0], [0], [1], [0], [1], [0], [0], [0], [0], [0], [1], [0], [0], [0], [0], [1], [0], [0], [0], [0], [0], [1], [1], [0], [1], [0], [0], [0], [0], [0], [0], [1], [1], [1], [0], [1], [0], [0], [0], [0], [0], [0], [1], [0], [0], [0], [0], [1], [1], [0], [1], [0], [0], [1], [1], [0], [1], [1], [1], [0], [1], [0], [0], [1], [0], [0], [0], [1], [0], [1], [0], [0], [1], [1], [0], [1], [0], [1], [1], [0], [1], [1], [1], [1], [1], [1], [0], [1], [0], [0], [1], [0], [1], [1], [0], [0], [0], [0], [0], [1], [0], [1], [1], [0], [0], [0], [0], [0], [1], [0], [0], [1], [1], [0], [1], [1], [0], [0], [1], [0], [0], [0], [0], [1], [0], [1], [0], [1], [0], [1], [0], [1], [1], [0], [1], [0], [0], [1], [1], [0], [1], [0], [1], [0], [1], [1], [1], [0], [0], [0], [0], [1], [1], [1], [0], [0], [1], [1], [0], [0], [1], [0], [0], [1], [1], [1], [1], [1], [1], [1], [0], [1], [1], [1], [1], [0], [1], [0], [0], [1], [1], [0], [0], [1], [1], [0], [0], [1], [1], [0], [0], [0], [0], [0], [1], [0], [1], [0], [0], [0], [1], [1], [1], [1], [0], [0], [0], [0], [0], [1], [1], [0], [1], [0], [0], [0], [0], [1], [0], [0], [1], [0], [0], [0], [1], [1], [0], [1], [1], [0], [0], [0], [1], [0], [0], [1], [0], [0], [1], [1], [0], [0], [1], [1], [1], [1], [0], [1], [0], [0], [1], [0], [0], [1], [0], [0], [1], [1], [0], [0], [0], [0], [0], [0], [1], [0], [0], [0], [1], [0], [1], [1], [1], [1], [0], [1], [1], [0], [0], [1], [0], [0], [0], [1], [1], [0], [0], [0], [0], [0], [0], [1], [1], [1], [0], [0], [0], [0], [0], [0], [0], [0], [0], [0], [0], [1], [1], [0], [1], [1], [0], [1], [0], [0], [0], [0], [0], [1], [0], [1], [1], [0], [0], [1], [0], [1], [0], [0], [1], [1], [0], [0], [0], [0], [1], [0], [1], [1], [1], [0], [0], [1], [1], [0], [1], [0], [1], [1], [0], [0], [1], [1], [1], [1], [0], [0], [1], [0], [0], [0], [0], [0], [1], [0], [0], [1], [1], [1], [1], [1], [0], [0], [1], [1], [0], [0], [1], [1], [0], [1], [0], [0], [0], [0], [0], [1], [1], [1], [0], [0], [1], [0], [0], [1], [0], [0], [1], [0], [0], [0], [0], [0], [1], [0], [1], [0], [1], [1], [0], [0], [0], [0], [1], [0], [0], [0], [1], [0], [1], [1], [0], [1], [0], [1], [0], [0], [0], [0], [0], [0], [1], [0], [1], [0], [0], [0], [0], [1], [1], [1], [1], [0], [0], [1], [0], [0], [1], [0], [1], [1], [0], [0], [0], [0], [0], [1], [0], [1], [0], [0], [1], [1], [1], [0], [1], [1], [0], [1], [1], [1], [0], [0], [1], [1], [1], [0], [0], [1], [0], [1], [1], [0], [0], [0], [0], [0], [0], [0], [0], [1], [0], [0], [1], [0], [0], [0], [0], [1], [0], [0], [0], [1], [0], [1], [0], [0], [1], [1], [0], [0], [1], [1], [0], [1], [1], [1], [1], [0], [0], [0], [1], [1], [1], [1], [1], [1], [0], [0], [0], [0], [1], [1], [0], [1], [1], [0], [0], [0], [0], [0], [0], [1], [0], [1], [1], [0], [1], [0], [0], [0], [0], [0], [0], [1], [0], [0], [1], [1], [0], [0], [0], [0], [0], [1], [1], [0], [1], [1], [0], [0], [1], [1], [1], [1], [1], [0], [0], [1], [0], [0], [1], [0], [1], [1], [0], [0], [0], [1], [0], [0], [1], [1], [1], [0], [0], [0], [0], [1], [0], [0], [1], [1], [0], [0], [1], [1], [0], [0], [0], [1], [0], [0], [0], [1], [1], [1], [1], [0], [1], [0], [1], [0], [0], [1], [0], [1], [0], [0], [1], [1], [1], [0], [1], [0], [0], [0], [0], [1], [1], [0], [0], [0], [1], [0], [0], [1], [1], [0], [0], [0], [0], [1], [1], [0], [1], [0], [1], [0], [0], [1], [0], [0], [0], [0], [0], [1], [0], [1], [0], [1], [0], [1], [0], [1], [0], [0], [0], [1], [0], [1], [1], [1], [0], [0], [1], [0], [0], [1], [0], [1], [0], [0], [1], [0], [0], [0], [0], [0], [1], [1], [1], [0], [0], [1], [0], [1], [0], [0], [1], [0], [0], [0], [1], [1], [0], [0], [1], [1], [0], [0], [1], [1], [1], [1], [0], [0], [1], [1], [0], [0], [0], [1], [1], [0], [1], [0], [0], [0], [0], [0], [0], [0], [0], [1], [1], [1], [1], [0], [1], [0], [1], [0], [0], [0], [1], [0], [1], [0], [0], [1], [0], [0], [1], [0], [1], [0], [0], [0], [0], [0], [0], [0], [1], [1], [1], [0], [0], [0], [1], [0], [1], [1], [0], [1], [0], [1], [0], [0], [0], [1], [1], [0], [1], [1], [0], [1], [0], [1], [1], [1], [1], [1], [1], [1], [0], [1], [0], [0], [0], [0], [0], [0], [0], [0], [1], [1], [0], [0], [0], [1], [1], [1], [0], [0], [1], [0], [1], [0], [1], [1], [0], [1], [0], [0], [0], [1], [0], [1], [1], [1], [1], [0], [0], [0], [0], [1], [0], [1], [1], [0], [0], [0], [0], [0], [0], [0], [1], [1], [1], [0], [0], [0], [0], [1], [0], [1], [1], [0], [1], [0], [1], [0], [1], [0], [1], [0], [1], [1], [0], [1], [0], [0], [0], [0], [1], [0], [0], [1], [1], [1], [0], [0], [0], [0], [0], [1], [1], [1], [0], [1], [0], [1], [1], [1], [1], [1], [0], [1], [0], [0], [1], [0], [0], [1], [0], [1], [0], [0], [0], [0], [0], [0], [0], [0], [1], [0], [0], [1], [1], [1], [0], [0], [0], [0], [0], [0], [0], [1], [1], [0], [1], [1], [1], [0], [0], [0], [1], [1], [1], [1], [0], [0], [0], [0], [0], [1], [0], [0], [0], [0], [1], [1], [1], [0], [0], [0], [1], [1], [1], [1], [1], [0], [0], [0], [0], [0], [1], [0], [1], [0], [1], [0], [0], [0], [0], [1], [0], [1], [0], [0], [0], [1], [1], [1], [1], [1], [1], [0], [1], [1], [0], [1], [0], [0], [1], [1], [0], [1], [0], [1], [0], [1], [1], [1], [0], [1], [1], [0], [0], [0], [0], [1], [0], [1], [0], [1], [1], [0], [1], [0], [1], [1], [0], [0], [1], [0], [0], [0], [0], [0], [1], [0], [1], [0], [1], [0], [0], [1], [0], [0], [1], [1], [1], [0], [1], [0], [1], [0], [0], [0], [1], [1], [0], [0], [0], [0], [1], [0], [0], [0], [1], [0], [1], [1], [1], [1], [0], [0], [1], [0], [1], [0], [1], [0], [0], [0], [1], [0], [1], [1], [1], [0], [0], [1], [0], [1], [0], [1], [0], [0], [1], [1], [1], [1], [0], [1], [1], [0], [0], [0], [0], [1], [0], [1], [1], [1], [0], [1], [1], [0], [0], [0], [1], [0], [0], [0], [0], [0], [1], [1], [0], [1], [0], [1], [1], [0], [1], [0], [1], [0], [1], [0], [0], [1], [0], [1], [0], [1], [1], [1], [0], [1], [1], [1], [1], [1], [1], [0], [1], [1], [1], [1], [1], [0], [1], [0], [0], [1], [1], [1], [0], [0], [0], [0], [1], [0], [0], [1], [1], [0], [0], [0], [0], [1], [0], [1], [0], [1], [0], [1], [0], [0], [0], [0], [1], [1], [0], [0], [1], [0], [1], [1], [0], [0], [0], [1], [1], [0], [1], [1], [1], [1], [1], [0], [0], [0], [1], [0], [1], [0], [0], [0], [1], [0], [1], [0], [0], [0], [0], [1], [0], [1], [0], [0], [0], [0], [0], [0], [1], [0], [1], [0], [0], [0], [1], [1], [0], [0], [1], [1], [0], [1], [1], [1], [0], [0], [0], [0], [1], [0], [0], [0], [0], [0], [0], [0], [0], [1], [0], [1], [0], [1], [1], [0], [1], [1], [1], [0], [0], [1], [0], [0], [0], [1], [1], [0], [1], [1], [0], [1], [0], [0], [0], [1], [0], [0], [0], [0], [0], [1], [1], [1], [0], [1], [0], [0], [1], [1], [1], [1], [0], [0], [0], [1], [1], [1], [0], [0], [0], [0], [0], [0], [0], [0], [0], [1], [1], [1], [1], [0], [1], [0], [1], [0], [1], [1], [0], [0], [1], [0], [1], [0], [1], [0], [0], [0], [1], [0], [1], [1], [1], [0], [0], [1], [0], [0], [0], [0], [0], [0], [1], [0], [0], [0], [0], [1], [0], [0], [0], [0], [1], [0], [0], [1], [0], [1], [1], [0], [1], [1], [0], [1], [0], [0], [1], [0], [1], [0], [0], [1], [0], [0], [1], [1], [0], [1], [1], [1], [1], [0], [0], [1], [1], [0], [0], [0], [0], [0], [0], [1], [1], [0], [1], [1], [0], [0], [1], [0], [0], [1], [0], [0], [1], [0], [0], [1], [1], [0], [1], [0], [0], [0], [0], [1], [0], [0], [1], [0], [1], [1], [0], [1], [0], [1], [0], [0], [0], [0], [0], [1], [1], [0], [1], [1], [0], [1], [1], [0], [1], [1], [1], [0], [1], [0], [1], [0], [1], [0], [1], [1], [0], [0], [0], [0], [0], [1], [1], [0], [1], [0], [1], [0], [0], [0], [0], [0], [0], [0], [1], [1], [0], [0], [1], [0], [1], [0], [1], [1], [0], [0], [1], [0], [0], [0], [1], [0], [1], [0], [0], [1], [1], [0], [1], [0], [1], [0], [1], [1], [0], [1], [1], [1], [1], [0], [0], [1], [1], [1], [0], [0], [0], [0], [1], [0], [0], [0], [1], [0], [1], [0], [1], [0], [0], [1], [0], [0], [0], [0], [0], [0], [0], [0], [0], [1], [0], [0], [0], [0], [1], [1], [0], [1], [1], [0], [1], [0], [0], [1], [0], [0], [0], [0], [1], [0], [1], [1], [1], [0], [0], [0], [1], [1], [1], [1], [1], [0], [1], [1], [0], [0], [0], [0], [0], [0], [1], [1], [0], [0], [1], [0], [1], [0], [0], [0], [0], [0], [1], [1], [0], [0], [1], [0], [1], [0], [0], [1], [1], [1], [1], [0], [1], [1], [0], [0], [0], [1], [0], [0], [0], [0], [0], [1], [1], [0], [1], [0], [1], [0], [1], [0], [1], [0], [0], [0], [0], [1], [1], [0], [1], [0], [1], [1], [1], [0], [0], [0], [0], [0], [1], [1], [1], [0], [0], [0], [0], [0], [0], [1], [1], [1], [1], [0], [0], [1], [1], [0], [0], [1], [1], [1], [1], [0], [1], [0], [0], [1], [0], [0], [0], [0], [1], [0], [1], [0], [0], [0], [0], [1], [1], [0], [1], [0], [0], [1], [0], [0], [0], [1], [0], [0], [1], [1], [1], [1], [0], [0], [0], [1], [1], [0], [1], [0], [0], [0], [0], [0], [0], [1], [0], [1], [0], [0], [0], [1], [0], [0], [0], [1], [0], [1], [0], [0], [0], [0], [0], [0], [1], [0], [0], [0], [1], [0], [0], [0], [1], [1], [1], [0], [1], [1], [0], [1], [0], [1], [0], [0], [1], [1], [1], [1], [1], [1], [0], [0], [0], [0], [1], [0], [0], [1], [0], [1], [1], [1], [1], [1], [0], [1], [1], [1], [0], [0], [0], [1], [1], [1], [0], [1], [1], [0], [0], [1], [0], [0], [0], [0], [0], [1], [1], [0], [1], [1], [1], [0], [0], [0], [0], [0], [1], [1], [1], [0], [1], [1], [0], [1], [1], [1], [0], [0], [1], [0], [0], [1], [0], [0], [1], [0], [1], [0], [1], [0], [1], [1], [1], [0], [1], [0], [1], [0], [0], [0], [0], [1], [0], [1], [0], [0], [0], [0], [0], [1], [0], [0], [0], [1], [1], [0], [1], [1], [0], [1], [0], [1], [1], [0], [1], [1], [0], [0], [0], [1], [1], [0], [1], [0], [1], [0], [1], [0], [0], [1], [1], [1], [0], [1], [1], [0], [1], [0], [1], [1], [0], [1], [1], [1], [1], [0], [0], [1], [1], [0], [0], [1], [1], [0], [1], [0], [0], [1], [0], [1], [1], [1], [0], [1], [1], [0], [0], [0], [0], [0], [1], [1], [1], [1], [0], [1], [1], [0], [0], [1], [1], [0], [0], [0], [0], [0], [1], [0], [0], [0], [0], [1], [0], [1], [0], [0], [1], [0], [0], [0], [0], [0], [1], [0], [0], [1], [0], [1], [0], [0], [0], [0], [0], [0], [0], [1], [1], [0], [1], [0], [1], [0], [0], [1], [1], [0], [1], [0], [1], [0], [1], [0], [0], [1], [1], [1], [0], [0], [0], [1], [1], [0], [1], [0], [0], [0], [0], [0], [0], [0], [0], [0], [1], [0], [0], [0], [0], [0], [1], [0], [0], [0], [0], [0], [0], [0], [1], [0], [1], [0], [0], [1], [0], [0], [0], [1], [1], [0], [0], [0], [0], [0], [1], [1], [1], [0], [0], [0], [0], [0], [0], [1], [0], [0], [1], [1], [0], [0], [1], [0], [0], [1], [0], [1], [0], [1], [1], [0], [1], [1], [0], [0], [1], [1], [1], [1], [1], [0], [0], [1], [0], [0], [0], [0], [0], [1], [0], [0], [0], [0], [0], [1], [1], [0], [0], [1], [0], [0], [1], [0], [0], [1], [0], [0], [0], [0], [1], [0], [1], [0], [0], [1], [0], [0], [0], [1], [1], [1], [1], [0], [0], [0], [0], [1], [0], [0], [0], [1], [1], [1], [0], [1], [0], [0], [0], [0], [1], [1], [0], [0], [0], [0], [1], [0], [0], [0], [1], [1], [0], [1], [0], [1], [1], [1], [1], [0], [0], [1], [0], [0], [0], [1], [1], [1], [1], [1], [0], [0], [1], [0], [0], [0], [1], [0], [0], [0], [0], [1], [1], [1], [1], [1], [0], [0], [0], [1], [0], [1], [0], [1], [0], [1], [1], [1], [0], [0], [0], [0], [0], [0], [0], [1], [1], [1], [0], [0], [1], [0], [0], [1], [0], [1], [0], [0], [1], [0], [0], [0], [0], [0], [1], [1], [1], [1], [1], [1], [1], [0], [0], [0], [1], [1], [1], [1], [1], [0], [0], [0], [1], [0], [0], [0], [0], [1], [1], [1], [0], [0], [0], [1], [0], [1], [1], [0], [0], [1], [0], [1], [1], [1], [1], [0], [0], [1], [1], [1], [0], [1], [0], [0], [1], [0], [1], [0], [0], [1], [0], [1], [0], [1], [0], [0], [0], [0], [0], [0], [1], [1], [0], [0], [0], [0], [0], [1], [1], [1], [1], [1], [1], [0], [1], [1], [1], [1], [0], [1], [1], [0], [0], [1], [0], [1], [0], [1], [1], [0], [1], [0], [0], [1], [1], [0], [0], [1], [0], [1], [0], [0], [0], [0], [1], [1], [0], [1], [1], [1], [0], [0], [1], [0], [1], [0], [0], [0], [1], [1], [1], [1], [0], [1], [1], [1], [0], [0], [0], [0], [0], [1], [1], [0], [0], [0], [1], [0], [1], [0], [1], [0], [1], [1], [0], [1], [0], [1], [0], [1], [1], [1], [1], [0], [0], [1], [1], [0], [1], [0], [0], [0], [0], [1], [0], [0], [1], [0], [1], [1], [1], [1], [1], [0], [1], [0], [0], [0], [0], [1], [1], [1], [0], [0], [0], [1], [1], [1], [0], [0], [0], [0], [0], [0], [1], [1], [1], [1], [1], [1], [0], [0], [0], [0], [0], [1], [1], [0], [0], [1], [1], [1], [0], [0], [0], [1], [1], [1], [1], [1], [0], [1], [1], [1], [0], [0], [1], [1], [1], [1], [0], [0], [1], [1], [0], [0], [0], [1], [1], [0], [0], [0], [0], [0], [1], [0], [1], [1], [0], [0], [0], [1], [1], [0], [1], [0], [0], [1], [0], [1], [0], [0], [1], [1], [1], [0], [0], [0], [1], [0], [1], [0], [0], [0], [0], [1], [0], [1], [0], [0], [0], [1], [1], [0], [1], [0], [0], [0], [0], [0], [1], [1], [0], [1], [1], [0], [0], [0], [0], [1], [0], [0], [0], [0], [1], [0], [0], [1], [1], [0], [1], [1], [0], [0], [0], [0], [0], [1], [1], [1], [1], [1], [0], [0], [1], [0], [1], [0], [1], [1], [0], [0], [0], [0], [1], [0], [0], [1], [0], [0], [1], [1], [0], [0], [1], [1], [0], [1], [0], [1], [1], [1], [0], [1], [0], [1], [1], [0], [1], [0], [0], [1], [0], [1], [0], [0], [0], [1], [1], [0], [0], [0], [1], [0], [0], [0], [0], [0], [0], [1], [0], [0], [0], [1], [0], [0], [1], [0], [0], [0], [0], [1], [1], [0], [0], [0], [0], [0], [1], [0], [1], [0], [1], [0], [1], [0], [1], [1], [0], [0], [1], [0], [0], [0], [0], [0], [0], [1], [0], [0], [1], [1], [1], [0], [1], [0], [0], [0], [0], [0], [0], [0], [0], [0], [0], [0], [1], [0], [0], [0], [1], [1], [0], [1], [0], [1], [0], [0], [1], [0], [0], [1], [1], [0], [0], [0], [1], [1], [1], [0], [0], [0], [0], [1], [1], [1], [0], [0], [0], [0], [1], [0], [1], [0], [1], [0], [0], [1], [1], [0], [0], [0], [1], [1], [1], [0], [0], [0], [1], [0], [0], [0], [1], [1], [1], [0], [1], [1], [0], [1], [0], [0], [0], [0], [0], [0], [0], [0], [0], [0], [0], [1], [1], [1], [0], [0], [1], [1], [1], [0], [0], [1], [0], [0], [0], [1], [1], [0], [0], [1], [0], [1], [0], [0], [0], [0], [0], [1], [1], [1], [0], [0], [1], [1], [0], [1], [0], [1], [0], [0], [0], [1], [0], [0], [0], [1], [0], [0], [0], [1], [0], [0], [1], [0], [0], [1], [0], [1], [0], [1], [1], [1], [0], [1], [1], [0], [1], [0], [0], [0], [0], [1], [1], [1], [0], [1], [0], [0], [0], [1], [1], [1], [0], [0], [0], [1], [0], [1], [0], [0], [1], [0], [0], [1], [0], [1], [0], [1], [1], [0], [0], [0], [0], [1], [1], [1], [0], [0], [1], [1], [1], [1], [0], [1], [0], [0], [0], [0], [1], [1], [1], [1], [0], [1], [1], [1], [0], [0], [0], [1], [1], [1], [0], [0], [1], [0], [1], [0], [0], [0], [1], [1], [0], [0], [0], [0], [1], [0], [0], [1], [0], [0], [0], [0], [0], [0], [1], [0], [0], [0], [0], [1], [0], [0], [0], [0], [0], [0], [0], [0], [0], [0], [1], [0], [0], [1], [1], [0], [1], [0], [0], [0], [1], [1], [0], [0], [0], [0], [0], [0], [0], [1], [1], [0], [0], [0], [0], [0], [1], [1], [0], [0], [1], [0], [0], [1], [1], [1], [1], [1], [0], [1], [0], [1], [0], [0], [0], [0], [0], [0], [0], [1], [0], [1], [0], [1], [1], [0], [0], [0], [1], [1], [1], [0], [0], [0], [0], [1], [0], [1], [0], [0], [1], [0], [0], [0], [0], [1], [0], [1], [1], [0], [1], [1], [1], [1], [1], [1], [0], [0], [1], [0], [0], [0], [1], [0], [0], [1], [1], [0], [0], [0], [0], [1], [0], [1], [0], [0], [0], [0], [1], [1], [1], [0], [1], [1], [1], [0], [1], [0], [0], [1], [1], [1], [1], [1], [1], [0], [0], [0], [1], [0], [0], [0], [0], [1], [1], [1], [1], [1], [0], [0], [0], [0], [1], [1], [1], [1], [0], [1], [0], [0], [0], [1], [1], [1], [1], [1], [1], [0], [1], [0], [0], [1], [1], [1], [1], [1], [0], [0], [1], [0], [0], [1], [1], [1], [0], [0], [1], [1], [1], [1], [0], [0], [0], [0], [1], [1], [0], [0], [1], [0], [0], [1], [0], [1], [1], [0], [0], [1], [1], [1], [0], [0], [1], [1], [0], [0], [1], [0], [0], [0], [1], [1], [1], [0], [1], [1], [0], [1], [1], [1], [0], [0], [0], [0], [0], [0], [0], [1], [1], [1], [0], [0], [0], [0], [0], [1], [0], [1], [1], [1], [1], [1], [0], [1], [1], [0], [1], [1], [0], [1], [1], [1], [1], [0], [0], [0], [1], [0], [0], [1], [1], [1], [0], [0], [1], [1], [1], [0], [0], [0], [1], [0], [0], [1], [0], [0], [0], [0], [1], [1], [1], [1], [1], [1], [0], [1], [0], [0], [0], [1], [1], [0], [1], [1], [1], [0], [1], [0], [0], [0], [1], [1], [1], [1], [1], [0], [1], [0], [0], [0], [1], [1], [0], [1], [0], [0], [0], [0], [0], [1], [1], [0], [1], [1], [0], [1], [0], [1], [0], [0], [0], [1], [0], [1], [0], [0], [0], [0], [1], [1], [0], [0], [1], [0], [1], [1], [0], [1], [1], [0], [0], [1], [1], [0], [0], [1], [0], [0], [0], [0], [0], [0], [1], [0], [0], [1], [1], [0], [0], [1], [0], [1], [1], [1], [0], [1], [0], [0], [1], [0], [0], [1], [0], [0], [1], [0], [0], [0], [1], [0], [0], [0], [1], [0], [0], [0], [1], [1], [0], [0], [1], [0], [1], [1], [0], [0], [0], [0], [1], [0], [0], [1], [0], [1], [1], [1], [1], [1], [0], [0], [1], [1], [1], [0], [1], [1], [1], [0], [0], [0], [0], [1], [0], [0], [1], [0], [1], [0], [0], [0], [1], [0], [0], [0], [0], [1], [0], [0], [0], [0], [0], [0], [1], [0], [1], [1], [0], [0], [0], [1], [0], [0], [0], [1], [1], [0], [1], [0], [0], [1], [0], [1], [1], [1], [1], [1], [0], [0], [1], [0], [1], [0], [0], [1], [0], [0], [0], [1], [0], [0], [1], [1], [0], [0], [0], [1], [0], [0], [0], [0], [0], [0], [1], [1], [1], [0], [1], [0], [0], [0], [0], [0], [0], [0], [0], [1], [0], [0], [1], [1], [0], [0], [0], [1], [0], [1], [0], [1], [1], [1], [0], [0], [1], [1], [0], [1], [0], [0], [0], [1], [0], [0], [0], [0], [1], [0], [1], [0], [0], [0], [1], [1], [1], [0], [0], [0], [1], [1], [0], [1], [0], [1], [0], [1], [1], [0], [1], [0], [0], [1], [0], [0], [0], [0], [0], [0], [1], [1], [1], [0], [1], [1], [1], [0], [0], [0], [0], [1], [0], [1], [1], [0], [1], [0], [0], [0], [1], [1], [0], [1], [0], [1], [0], [1], [0], [1], [1], [0], [0], [1], [0], [0], [0], [1], [0], [1], [0], [0], [0], [1], [1], [1], [0], [1], [0], [1], [1], [1], [1], [1], [1], [0], [0], [0], [0], [0], [1], [1], [0], [1], [1], [0], [0], [1], [0], [1], [1], [0], [0], [1], [0], [0], [1], [1], [1], [0], [1], [0], [1], [0], [1], [0], [0], [0], [0], [1], [1], [0], [1], [0], [0], [1], [1], [1], [1], [0], [0], [0], [1], [1], [0], [1], [0], [0], [0], [1], [1], [0], [0], [0], [1], [1], [1], [0], [1], [1], [0], [1], [0], [0], [1], [1], [0], [0], [1], [1], [1], [1], [1], [1], [1], [0], [0], [0], [1], [1], [0], [0], [0], [1], [0], [0], [1], [0], [0], [0], [1], [0], [1], [1], [1], [0], [1], [1], [0], [0], [1], [1], [1], [1], [0], [0], [1], [1], [0], [1], [1], [0], [1], [1], [0], [0], [0], [0], [1], [1], [0], [0], [1], [0], [1], [0], [1], [0], [1], [1], [1], [0], [0], [0], [1], [0], [1], [1], [0], [0], [1], [0], [0], [1], [0], [0], [0], [0], [0], [0], [1], [1], [0], [0], [0], [0], [0], [0], [0], [0], [1], [0], [1], [1], [1], [0], [1], [0], [1], [1], [0], [1], [0], [0], [0], [1], [0], [0], [0], [1], [0], [1], [1], [1], [1], [0], [1], [0], [0], [0], [1], [1], [1], [0], [1], [1], [1], [1], [0], [0], [0], [0], [1], [0], [1], [0], [1], [0], [1], [0], [0], [1], [1], [0], [0], [0], [0], [1], [0], [0], [0], [1], [1], [1], [0], [1], [0], [1], [0], [0], [1], [0], [0], [1], [1], [0], [1], [1], [1], [0], [1], [0], [1], [0], [1], [1], [1], [1], [1], [0], [0], [0], [0], [0], [0], [0], [0], [1], [0], [1], [0], [1], [0], [1], [0], [1], [1], [1], [0], [0], [1], [0], [0], [1], [0], [1], [0], [0], [0], [1], [1], [1], [1], [1], [0], [1], [0], [0], [0], [1], [1], [1], [1], [0], [1], [0], [1], [0], [0], [1], [0], [0], [1], [0], [0], [0], [1], [1], [0], [0], [0], [0], [0], [1], [0], [1], [0], [0], [0], [0], [0], [1], [0], [1], [0], [1], [0], [0], [0], [0], [1], [0], [0], [0], [1], [0], [0], [0], [1], [1], [0], [0], [1], [1], [1], [0], [0], [0], [0], [0], [1], [1], [0], [0], [0], [0], [0], [0], [0], [0], [1], [0], [0], [1], [1], [1], [1], [1], [0], [0], [0], [1], [0], [0], [0], [0], [0], [0], [1], [0], [0], [1], [1], [1], [1], [1], [0], [0], [0], [0], [1], [0], [0], [1], [1], [1], [0], [0], [1], [1], [0], [0], [1], [0], [1], [0], [0], [0], [0], [0], [1], [0], [1], [0], [0], [1], [1], [0], [1], [1], [0], [1], [0], [0], [0], [1], [0], [1], [0], [0], [0], [0], [0], [0], [1], [0], [1], [0]]\n"
     ]
    }
   ],
   "source": [
    "single_pt_pred()\n",
    "print(single_arr)"
   ]
  },
  {
   "cell_type": "markdown",
   "id": "19e70ea0",
   "metadata": {},
   "source": [
    "# Batch Prediction"
   ]
  },
  {
   "cell_type": "code",
   "execution_count": 44,
   "id": "bd59e93b",
   "metadata": {},
   "outputs": [],
   "source": [
    "batch_arr = []\n",
    "\n",
    "def batch_pred():\n",
    "    predictions = lg.predict(testing_X)\n",
    "    predictions = predictions.tolist()\n",
    "    batch_arr.append(predictions)"
   ]
  },
  {
   "cell_type": "code",
   "execution_count": 45,
   "id": "35ff09a9",
   "metadata": {},
   "outputs": [
    {
     "name": "stdout",
     "output_type": "stream",
     "text": [
      "[[1, 0, 1, 0, 0, 1, 0, 0, 0, 1, 1, 1, 1, 0, 0, 1, 0, 0, 0, 1, 1, 1, 1, 1, 1, 1, 0, 0, 1, 0, 1, 1, 1, 0, 1, 0, 1, 0, 1, 0, 0, 1, 0, 1, 0, 0, 1, 0, 0, 0, 1, 1, 0, 1, 0, 0, 1, 0, 0, 0, 0, 1, 0, 1, 0, 0, 0, 1, 0, 0, 1, 1, 0, 0, 0, 1, 0, 0, 0, 0, 0, 0, 0, 0, 1, 0, 1, 1, 1, 1, 1, 0, 0, 0, 0, 0, 0, 0, 0, 0, 0, 0, 0, 1, 1, 0, 0, 1, 0, 0, 0, 1, 0, 0, 1, 0, 0, 0, 0, 0, 0, 1, 0, 0, 1, 1, 1, 0, 1, 0, 0, 0, 0, 0, 0, 0, 0, 1, 1, 1, 0, 1, 0, 1, 0, 1, 0, 0, 1, 0, 0, 0, 0, 0, 0, 1, 0, 1, 1, 0, 0, 0, 1, 1, 1, 0, 0, 0, 0, 1, 0, 0, 0, 0, 0, 0, 1, 1, 0, 1, 0, 0, 0, 0, 1, 0, 0, 1, 1, 1, 1, 0, 0, 0, 1, 0, 1, 0, 1, 1, 0, 0, 1, 1, 0, 0, 0, 1, 1, 0, 1, 0, 1, 0, 0, 1, 1, 0, 0, 0, 1, 0, 0, 1, 0, 0, 1, 1, 0, 0, 1, 0, 1, 1, 0, 1, 0, 0, 0, 0, 0, 0, 1, 1, 0, 0, 1, 1, 0, 1, 0, 1, 1, 0, 0, 1, 0, 1, 1, 0, 1, 1, 0, 0, 1, 1, 0, 0, 0, 1, 0, 1, 1, 0, 0, 0, 0, 1, 1, 1, 1, 1, 1, 0, 0, 1, 0, 0, 1, 0, 0, 0, 1, 0, 1, 0, 1, 1, 0, 1, 1, 1, 1, 1, 0, 1, 0, 1, 0, 1, 0, 1, 1, 0, 1, 1, 0, 0, 0, 0, 0, 0, 0, 0, 0, 0, 1, 0, 1, 0, 0, 0, 0, 1, 0, 1, 0, 1, 0, 1, 0, 1, 0, 0, 0, 0, 1, 1, 1, 1, 0, 1, 0, 0, 1, 0, 1, 0, 0, 0, 0, 0, 0, 0, 1, 0, 1, 0, 0, 1, 1, 0, 0, 1, 1, 0, 0, 1, 1, 0, 0, 0, 1, 1, 1, 1, 0, 1, 0, 0, 0, 1, 1, 0, 0, 0, 1, 1, 0, 0, 0, 0, 0, 1, 0, 0, 0, 0, 0, 0, 0, 0, 1, 0, 1, 1, 0, 0, 1, 1, 0, 0, 1, 1, 1, 1, 0, 0, 0, 1, 0, 0, 0, 1, 1, 1, 0, 0, 1, 1, 0, 1, 0, 1, 1, 0, 0, 1, 1, 0, 0, 0, 1, 0, 1, 1, 0, 1, 1, 0, 0, 0, 0, 0, 1, 0, 1, 0, 1, 0, 0, 0, 1, 1, 1, 0, 0, 0, 1, 0, 1, 1, 0, 0, 1, 0, 1, 1, 0, 0, 0, 1, 0, 1, 0, 1, 0, 0, 1, 1, 1, 1, 0, 1, 0, 1, 0, 0, 0, 0, 0, 1, 1, 0, 0, 0, 0, 1, 1, 0, 1, 0, 0, 0, 1, 1, 0, 0, 1, 0, 1, 1, 0, 1, 1, 0, 0, 0, 0, 0, 1, 1, 0, 0, 1, 0, 0, 0, 0, 0, 1, 1, 1, 1, 0, 1, 0, 1, 0, 1, 1, 1, 0, 1, 0, 0, 1, 1, 0, 0, 1, 0, 1, 0, 1, 0, 0, 0, 1, 1, 0, 1, 0, 1, 0, 1, 0, 1, 1, 0, 0, 0, 0, 0, 1, 0, 1, 0, 1, 1, 1, 0, 0, 0, 0, 0, 1, 0, 0, 0, 0, 1, 0, 0, 1, 1, 0, 0, 1, 1, 1, 0, 1, 0, 0, 0, 1, 1, 1, 1, 0, 1, 1, 1, 0, 1, 0, 1, 0, 0, 1, 0, 0, 1, 1, 1, 0, 1, 0, 0, 1, 0, 1, 0, 0, 0, 1, 0, 0, 0, 1, 0, 1, 1, 1, 0, 0, 0, 1, 1, 0, 1, 0, 0, 0, 1, 0, 1, 0, 1, 1, 1, 1, 1, 0, 0, 1, 0, 0, 0, 1, 1, 1, 0, 1, 0, 0, 1, 0, 0, 1, 0, 0, 0, 0, 1, 1, 0, 0, 0, 0, 0, 0, 0, 1, 0, 1, 1, 1, 0, 0, 0, 0, 0, 1, 0, 0, 1, 1, 1, 0, 1, 0, 0, 0, 0, 0, 0, 0, 1, 1, 0, 0, 0, 0, 0, 1, 0, 0, 0, 0, 0, 0, 0, 1, 1, 1, 0, 0, 0, 0, 1, 1, 1, 1, 1, 0, 1, 0, 0, 0, 0, 0, 1, 0, 0, 1, 0, 1, 1, 1, 1, 0, 1, 0, 1, 1, 0, 1, 0, 0, 0, 1, 1, 0, 0, 1, 0, 0, 1, 0, 0, 0, 1, 0, 1, 0, 1, 1, 0, 0, 0, 1, 0, 1, 0, 0, 1, 0, 0, 1, 1, 0, 0, 0, 0, 1, 0, 1, 0, 1, 0, 1, 0, 0, 0, 0, 1, 0, 1, 1, 0, 1, 1, 0, 0, 1, 0, 1, 0, 0, 0, 0, 0, 0, 1, 0, 1, 0, 1, 0, 0, 0, 0, 1, 0, 0, 0, 1, 0, 1, 1, 0, 1, 0, 0, 0, 1, 1, 0, 1, 0, 0, 1, 0, 0, 0, 0, 0, 1, 1, 1, 0, 0, 0, 1, 0, 0, 1, 0, 0, 1, 0, 0, 0, 1, 0, 0, 0, 0, 0, 0, 1, 1, 1, 0, 1, 1, 0, 0, 0, 0, 0, 1, 1, 0, 0, 0, 1, 0, 1, 0, 1, 1, 0, 0, 1, 0, 1, 0, 0, 0, 0, 1, 0, 0, 1, 0, 1, 1, 1, 0, 1, 0, 0, 0, 0, 0, 1, 1, 1, 0, 0, 0, 0, 0, 1, 1, 0, 0, 0, 1, 0, 0, 0, 0, 0, 1, 0, 0, 1, 0, 1, 0, 0, 0, 0, 1, 0, 0, 0, 1, 1, 0, 1, 0, 0, 0, 0, 1, 0, 0, 0, 1, 0, 0, 0, 0, 1, 1, 1, 1, 0, 0, 0, 1, 0, 0, 1, 1, 1, 1, 1, 0, 0, 1, 0, 0, 1, 0, 1, 0, 1, 0, 0, 0, 1, 1, 0, 0, 0, 1, 1, 0, 0, 0, 0, 0, 0, 0, 1, 0, 1, 1, 1, 0, 0, 1, 1, 1, 0, 1, 0, 0, 1, 1, 0, 0, 0, 1, 0, 1, 1, 0, 0, 0, 1, 1, 1, 1, 0, 0, 0, 1, 0, 0, 1, 1, 0, 1, 0, 0, 0, 0, 0, 1, 0, 1, 0, 0, 0, 0, 0, 1, 0, 0, 1, 0, 0, 0, 0, 1, 1, 1, 1, 1, 0, 0, 1, 1, 0, 1, 0, 0, 0, 1, 1, 0, 0, 0, 1, 1, 1, 1, 0, 0, 0, 0, 1, 1, 1, 1, 0, 1, 0, 1, 0, 0, 1, 1, 1, 0, 1, 1, 0, 0, 0, 1, 0, 0, 1, 0, 1, 0, 0, 0, 0, 0, 0, 1, 1, 1, 0, 0, 1, 0, 0, 0, 0, 0, 1, 0, 1, 1, 0, 1, 1, 1, 0, 0, 1, 0, 0, 0, 1, 0, 0, 0, 1, 0, 1, 1, 0, 1, 0, 0, 0, 0, 0, 0, 1, 0, 1, 1, 0, 0, 0, 1, 1, 0, 1, 1, 1, 0, 0, 0, 1, 0, 0, 1, 1, 1, 1, 1, 0, 0, 0, 0, 0, 0, 1, 1, 0, 1, 1, 1, 1, 0, 1, 0, 1, 0, 1, 0, 1, 0, 1, 1, 1, 0, 0, 1, 0, 0, 1, 0, 0, 1, 0, 0, 1, 0, 1, 0, 0, 1, 0, 1, 1, 0, 1, 0, 0, 0, 1, 1, 1, 0, 1, 1, 1, 0, 1, 1, 1, 1, 0, 1, 1, 0, 0, 1, 0, 1, 0, 1, 0, 1, 0, 0, 0, 0, 0, 1, 0, 1, 0, 1, 1, 1, 1, 1, 0, 1, 0, 1, 0, 0, 0, 0, 0, 1, 0, 1, 1, 1, 1, 1, 0, 0, 1, 0, 1, 0, 1, 0, 0, 1, 1, 0, 0, 1, 0, 1, 1, 0, 1, 0, 0, 1, 0, 0, 0, 1, 1, 0, 0, 0, 1, 0, 1, 0, 1, 1, 1, 0, 0, 0, 1, 0, 0, 0, 0, 1, 0, 0, 0, 1, 0, 1, 1, 1, 0, 0, 0, 0, 1, 0, 0, 0, 0, 0, 1, 0, 0, 1, 0, 0, 0, 0, 1, 0, 0, 0, 1, 0, 0, 0, 0, 1, 1, 0, 1, 0, 0, 1, 0, 0, 0, 1, 0, 0, 0, 0, 0, 1, 1, 0, 1, 0, 0, 1, 0, 1, 1, 0, 1, 1, 1, 1, 0, 1, 1, 0, 0, 1, 1, 0, 1, 0, 1, 1, 0, 0, 0, 0, 0, 0, 0, 0, 1, 1, 1, 1, 0, 1, 1, 1, 0, 0, 0, 0, 1, 1, 1, 0, 1, 0, 1, 0, 0, 1, 1, 0, 0, 0, 1, 0, 1, 1, 1, 0, 0, 1, 0, 1, 1, 0, 1, 0, 0, 0, 0, 0, 0, 0, 1, 1, 0, 0, 1, 1, 1, 0, 0, 1, 1, 1, 1, 0, 1, 1, 0, 0, 0, 0, 1, 0, 0, 0, 1, 1, 0, 1, 0, 1, 0, 1, 1, 0, 0, 0, 1, 0, 0, 0, 0, 0, 1, 0, 0, 1, 0, 0, 0, 1, 0, 1, 1, 1, 0, 1, 0, 0, 0, 0, 0, 0, 0, 0, 1, 1, 0, 0, 0, 1, 1, 0, 0, 0, 1, 0, 0, 1, 0, 1, 0, 0, 1, 0, 0, 0, 1, 1, 1, 0, 1, 0, 0, 0, 0, 0, 1, 1, 1, 1, 0, 1, 1, 1, 0, 1, 0, 0, 0, 0, 1, 1, 0, 1, 0, 0, 1, 0, 0, 0, 0, 0, 1, 0, 0, 0, 0, 1, 0, 0, 0, 0, 0, 0, 0, 1, 1, 0, 1, 0, 1, 1, 0, 0, 1, 1, 1, 0, 0, 0, 0, 1, 0, 1, 0, 1, 0, 1, 0, 1, 0, 0, 0, 1, 1, 1, 1, 0, 1, 1, 1, 0, 0, 0, 0, 0, 1, 1, 0, 0, 1, 0, 0, 1, 0, 1, 1, 1, 0, 0, 1, 0, 1, 0, 1, 1, 1, 1, 0, 1, 1, 0, 1, 0, 0, 0, 1, 1, 0, 0, 1, 0, 1, 0, 0, 0, 0, 0, 0, 1, 0, 0, 1, 1, 0, 0, 1, 1, 0, 0, 1, 1, 0, 0, 0, 0, 1, 1, 1, 0, 1, 0, 1, 0, 1, 1, 0, 0, 0, 0, 1, 1, 1, 1, 0, 0, 1, 1, 0, 0, 1, 0, 0, 0, 1, 1, 0, 1, 1, 1, 0, 1, 1, 0, 1, 1, 1, 1, 0, 0, 1, 0, 0, 1, 0, 0, 1, 0, 1, 0, 1, 1, 0, 0, 1, 0, 0, 0, 0, 0, 1, 0, 0, 0, 0, 0, 0, 1, 0, 0, 0, 0, 0, 0, 0, 1, 0, 1, 1, 0, 1, 1, 0, 0, 1, 0, 0, 1, 1, 1, 0, 0, 1, 1, 0, 1, 0, 0, 0, 0, 0, 1, 1, 1, 1, 1, 0, 1, 1, 0, 0, 1, 1, 1, 0, 0, 1, 0, 0, 1, 1, 0, 0, 0, 0, 1, 0, 0, 0, 0, 0, 0, 1, 1, 1, 0, 0, 0, 0, 0, 0, 0, 0, 0, 0, 0, 1, 1, 1, 0, 1, 0, 1, 1, 1, 0, 1, 1, 1, 1, 1, 1, 0, 0, 1, 1, 0, 0, 1, 0, 0, 1, 0, 1, 0, 0, 0, 1, 0, 1, 1, 1, 0, 1, 1, 0, 1, 0, 1, 0, 1, 1, 1, 0, 0, 1, 0, 0, 0, 1, 0, 0, 0, 0, 1, 0, 1, 1, 1, 0, 0, 0, 1, 0, 1, 0, 1, 1, 1, 1, 0, 0, 0, 0, 1, 0, 1, 0, 1, 0, 0, 1, 1, 0, 0, 1, 0, 0, 0, 0, 1, 1, 0, 0, 0, 0, 0, 0, 1, 1, 0, 0, 1, 1, 1, 1, 0, 1, 0, 0, 0, 1, 1, 1, 0, 0, 1, 1, 1, 0, 0, 0, 0, 1, 1, 0, 1, 0, 0, 0, 0, 0, 1, 0, 0, 0, 0, 0, 0, 1, 1, 0, 1, 1, 0, 0, 1, 0, 1, 1, 1, 1, 0, 0, 0, 0, 0, 0, 0, 0, 0, 1, 1, 0, 0, 0, 0, 0, 1, 1, 1, 0, 1, 1, 0, 1, 1, 1, 1, 1, 0, 0, 0, 0, 0, 1, 0, 0, 0, 0, 0, 0, 0, 0, 0, 0, 0, 0, 1, 0, 1, 1, 0, 0, 0, 1, 1, 0, 1, 1, 1, 1, 1, 0, 0, 1, 1, 1, 0, 1, 1, 0, 0, 0, 0, 0, 0, 0, 1, 1, 0, 0, 0, 1, 0, 1, 0, 0, 1, 1, 1, 1, 1, 0, 1, 0, 1, 1, 1, 1, 1, 1, 1, 1, 1, 1, 0, 1, 0, 1, 1, 0, 1, 1, 0, 1, 1, 0, 1, 1, 1, 0, 1, 0, 0, 0, 0, 0, 1, 0, 0, 1, 0, 0, 1, 1, 1, 0, 0, 1, 0, 0, 0, 0, 1, 0, 0, 0, 1, 0, 0, 0, 0, 0, 0, 1, 1, 0, 1, 0, 0, 0, 1, 1, 0, 1, 1, 0, 1, 1, 0, 0, 0, 0, 0, 0, 1, 0, 0, 0, 1, 1, 0, 1, 0, 0, 1, 1, 1, 0, 0, 0, 1, 1, 0, 1, 0, 0, 1, 1, 1, 0, 0, 1, 1, 0, 1, 0, 0, 0, 1, 0, 0, 1, 0, 0, 0, 0, 1, 1, 1, 1, 0, 1, 0, 0, 1, 1, 1, 0, 0, 1, 0, 0, 0, 1, 0, 0, 1, 1, 0, 0, 1, 0, 0, 0, 1, 0, 0, 1, 0, 1, 0, 1, 0, 0, 1, 0, 1, 1, 0, 0, 0, 1, 0, 0, 1, 0, 0, 0, 0, 1, 1, 1, 1, 0, 1, 1, 1, 0, 0, 0, 0, 0, 0, 0, 1, 0, 0, 0, 1, 0, 1, 1, 1, 1, 1, 0, 0, 0, 0, 1, 1, 1, 0, 0, 0, 0, 1, 0, 1, 0, 0, 1, 0, 0, 1, 0, 1, 0, 1, 0, 0, 0, 0, 1, 1, 1, 1, 1, 1, 0, 0, 0, 0, 1, 0, 1, 1, 1, 0, 0, 1, 0, 0, 0, 1, 1, 0, 1, 0, 0, 0, 1, 0, 0, 1, 0, 0, 0, 0, 1, 1, 0, 0, 0, 0, 1, 1, 1, 0, 0, 1, 0, 0, 0, 0, 0, 0, 0, 0, 1, 0, 1, 0, 1, 0, 0, 0, 0, 0, 0, 0, 1, 0, 0, 1, 1, 1, 0, 1, 1, 0, 0, 0, 1, 0, 0, 0, 0, 0, 1, 1, 0, 0, 0, 1, 0, 0, 0, 1, 0, 1, 0, 0, 0, 0, 1, 1, 0, 1, 1, 0, 1, 0, 1, 1, 1, 0, 0, 1, 0, 0, 1, 1, 0, 1, 0, 0, 1, 0, 0, 0, 0, 1, 0, 1, 1, 0, 0, 1, 0, 1, 1, 0, 0, 0, 0, 1, 0, 1, 0, 1, 1, 0, 0, 1, 0, 0, 0, 0, 1, 1, 0, 0, 0, 1, 1, 0, 1, 1, 1, 0, 0, 0, 0, 0, 1, 1, 0, 0, 1, 0, 1, 0, 0, 0, 0, 0, 1, 0, 0, 0, 1, 1, 0, 0, 0, 0, 1, 0, 0, 0, 0, 1, 0, 1, 0, 0, 1, 1, 0, 1, 1, 0, 1, 0, 1, 1, 0, 1, 0, 0, 0, 0, 1, 0, 1, 0, 0, 0, 0, 1, 0, 0, 0, 1, 0, 1, 0, 1, 0, 1, 1, 0, 1, 1, 0, 1, 0, 0, 0, 1, 1, 0, 0, 0, 1, 0, 1, 0, 0, 0, 1, 0, 1, 1, 1, 1, 1, 0, 0, 0, 1, 1, 0, 0, 1, 0, 0, 1, 0, 1, 1, 0, 1, 1, 0, 0, 0, 1, 0, 0, 0, 1, 0, 1, 1, 1, 1, 1, 1, 1, 1, 1, 0, 0, 1, 0, 1, 1, 0, 1, 0, 1, 1, 0, 0, 1, 0, 0, 0, 1, 0, 1, 0, 0, 1, 0, 0, 0, 0, 1, 0, 0, 0, 0, 1, 0, 0, 1, 0, 0, 1, 1, 1, 1, 0, 1, 0, 0, 0, 0, 0, 0, 0, 0, 1, 0, 0, 0, 0, 1, 0, 1, 1, 0, 0, 0, 0, 0, 0, 1, 0, 0, 0, 1, 0, 0, 1, 1, 0, 0, 1, 0, 0, 0, 1, 1, 0, 0, 0, 1, 0, 0, 1, 0, 0, 1, 0, 0, 0, 0, 0, 0, 0, 0, 1, 0, 0, 0, 0, 1, 0, 0, 1, 1, 1, 0, 0, 0, 1, 0, 0, 0, 1, 0, 1, 1, 0, 0, 1, 0, 0, 1, 1, 0, 0, 1, 0, 0, 1, 0, 0, 1, 0, 0, 1, 1, 1, 0, 1, 1, 0, 1, 1, 0, 0, 0, 0, 1, 0, 1, 0, 0, 1, 0, 0, 1, 1, 0, 0, 0, 1, 0, 1, 0, 0, 0, 0, 1, 1, 0, 0, 1, 1, 0, 1, 1, 1, 0, 0, 0, 0, 1, 0, 0, 1, 0, 0, 1, 1, 0, 1, 1, 1, 1, 1, 0, 0, 0, 0, 0, 1, 1, 1, 0, 1, 0, 0, 0, 0, 1, 0, 1, 1, 1, 1, 0, 0, 1, 0, 0, 0, 1, 1, 0, 0, 1, 0, 0, 0, 1, 1, 1, 1, 1, 1, 0, 0, 1, 1, 1, 1, 1, 1, 1, 0, 1, 1, 0, 1, 0, 0, 1, 1, 0, 0, 0, 0, 0, 0, 1, 1, 0, 1, 0, 0, 1, 1, 0, 0, 0, 1, 0, 0, 1, 1, 1, 0, 0, 1, 0, 1, 0, 0, 0, 1, 0, 1, 1, 0, 0, 1, 0, 1, 0, 0, 1, 0, 1, 1, 0, 0, 0, 0, 1, 1, 0, 1, 0, 0, 0, 0, 1, 0, 1, 0, 1, 1, 0, 1, 0, 1, 1, 1, 0, 0, 0, 1, 0, 1, 1, 0, 1, 0, 0, 1, 1, 0, 0, 0, 0, 1, 1, 0, 0, 0, 0, 0, 0, 1, 0, 0, 1, 0, 0, 0, 1, 0, 0, 0, 0, 0, 0, 0, 0, 0, 0, 1, 1, 0, 1, 0, 0, 1, 0, 0, 0, 1, 0, 1, 1, 0, 1, 1, 1, 0, 1, 1, 0, 0, 1, 0, 1, 0, 0, 0, 1, 1, 0, 0, 1, 0, 0, 0, 0, 0, 0, 1, 0, 0, 1, 0, 0, 0, 1, 1, 0, 1, 1, 0, 0, 1, 0, 1, 1, 0, 1, 0, 1, 0, 0, 1, 1, 0, 1, 1, 0, 0, 1, 1, 0, 0, 1, 0, 0, 1, 1, 0, 0, 0, 0, 0, 0, 1, 0, 1, 1, 1, 0, 0, 1, 1, 1, 0, 1, 0, 1, 1, 1, 0, 0, 1, 0, 1, 1, 1, 0, 0, 0, 0, 0, 1, 1, 0, 0, 1, 0, 0, 0, 1, 1, 0, 1, 1, 1, 0, 0, 0, 1, 1, 1, 1, 0, 0, 0, 0, 1, 0, 0, 0, 1, 1, 0, 0, 1, 1, 0, 0, 0, 0, 1, 0, 0, 0, 1, 1, 1, 0, 1, 0, 0, 0, 1, 1, 0, 1, 0, 0, 1, 1, 0, 0, 0, 0, 0, 0, 0, 0, 0, 0, 0, 1, 0, 1, 1, 1, 1, 1, 0, 0, 1, 1, 0, 0, 1, 0, 0, 1, 1, 0, 0, 1, 1, 0, 0, 1, 1, 0, 1, 0, 0, 1, 0, 0, 1, 1, 0, 1, 1, 1, 0, 0, 0, 1, 1, 1, 1, 0, 1, 0, 1, 0, 0, 0, 0, 1, 0, 1, 0, 1, 0, 0, 1, 0, 0, 1, 0, 0, 0, 1, 1, 0, 0, 1, 1, 0, 0, 1, 0, 0, 0, 1, 1, 0, 1, 0, 1, 0, 1, 0, 1, 1, 0, 0, 1, 0, 1, 0, 0, 0, 0, 1, 1, 0, 0, 1, 1, 0, 0, 1, 1, 0, 1, 0, 1, 0, 1, 0, 1, 0, 0, 1, 0, 1, 0, 0, 0, 0, 1, 0, 0, 1, 0, 1, 1, 0, 1, 0, 1, 0, 1, 0, 0, 1, 1, 0, 1, 0, 1, 0, 1, 1, 0, 0, 1, 1, 0, 0, 1, 0, 1, 0, 1, 0, 1, 0, 1, 0, 1, 0, 0, 1, 1, 0, 0, 0, 0, 1, 1, 1, 1, 1, 1, 0, 0, 1, 1, 1, 1, 1, 1, 1, 1, 1, 1, 0, 1, 0, 0, 0, 0, 0, 0, 0, 0, 1, 0, 0, 1, 1, 0, 0, 1, 1, 1, 0, 1, 0, 0, 0, 1, 1, 0, 1, 1, 1, 0, 1, 0, 1, 0, 1, 0, 1, 0, 1, 1, 0, 1, 0, 1, 0, 0, 0, 0, 0, 0, 0, 1, 0, 0, 1, 0, 1, 0, 0, 0, 0, 0, 0, 1, 0, 0, 0, 1, 1, 1, 0, 1, 0, 1, 1, 0, 0, 0, 0, 1, 0, 0, 0, 1, 1, 0, 0, 1, 1, 0, 1, 1, 0, 1, 0, 0, 0, 1, 0, 0, 1, 0, 0, 1, 0, 1, 1, 1, 0, 0, 1, 1, 0, 0, 0, 0, 0, 0, 1, 0, 0, 0, 1, 0, 1, 1, 1, 0, 1, 0, 1, 0, 0, 1, 0, 0, 0, 1, 1, 1, 0, 0, 0, 1, 0, 1, 0, 0, 0, 1, 0, 0, 1, 1, 0, 0, 0, 0, 0, 0, 0, 0, 0, 0, 0, 0, 0, 1, 1, 1, 1, 1, 1, 1, 0, 0, 0, 0, 0, 0, 1, 0, 0, 0, 0, 0, 0, 0, 0, 1, 0, 0, 0, 0, 0, 0, 1, 0, 1, 0, 0, 0, 0, 0, 1, 0, 0, 0, 1, 0, 1, 0, 1, 0, 0, 1, 1, 1, 1, 1, 1, 0, 0, 1, 0, 1, 0, 0, 0, 0, 1, 0, 0, 1, 0, 0, 1, 0, 1, 0, 0, 1, 0, 1, 1, 0, 0, 1, 0, 0, 0, 0, 0, 1, 0, 1, 0, 0, 1, 1, 1, 0, 1, 1, 1, 1, 0, 1, 1, 1, 1, 1, 1, 1, 0, 1, 0, 1, 0, 1, 0, 0, 0, 0, 1, 1, 1, 0, 1, 1, 0, 0, 0, 0, 0, 0, 1, 1, 1, 1, 0, 1, 0, 0, 0, 0, 0, 0, 1, 0, 1, 0, 0, 1, 1, 1, 1, 0, 0, 0, 0, 0, 0, 1, 0, 0, 1, 0, 0, 0, 1, 1, 0, 1, 0, 1, 0, 0, 0, 1, 1, 0, 0, 0, 0, 1, 0, 0, 0, 1, 0, 1, 0, 0, 0, 1, 0, 1, 0, 0, 0, 0, 0, 0, 0, 0, 1, 1, 0, 0, 1, 0, 0, 0, 1, 1, 1, 0, 1, 0, 1, 0, 0, 1, 1, 1, 0, 0, 0, 1, 1, 0, 1, 0, 0, 1, 1, 1, 1, 1, 1, 1, 1, 0, 0, 1, 1, 1, 1, 0, 1, 0, 1, 0, 0, 1, 1, 0, 1, 1, 1, 0, 1, 1, 1, 0, 0, 1, 0, 1, 0, 1, 0, 0, 0, 1, 1, 0, 1, 0, 1, 1, 0, 0, 0, 0, 1, 0, 0, 0, 1, 1, 1, 1, 1, 1, 1, 0, 0, 0, 0, 1, 0, 0, 0, 1, 1, 1, 1, 0, 0, 0, 0, 0, 0, 0, 0, 1, 0, 0, 0, 0, 0, 1, 0, 0, 0, 1, 0, 0, 1, 0, 1, 0, 1, 0, 0, 1, 1, 0, 1, 1, 1, 1, 0, 0, 0, 1, 0, 1, 0, 1, 0, 0, 0, 0, 1, 0, 1, 1, 0, 1, 0, 1, 1, 0, 1, 0, 1, 1, 0, 0, 0, 0, 1, 0, 1, 1, 0, 0, 1, 0, 1, 1, 0, 0, 1, 0, 0, 1, 1, 0, 1, 0, 0, 0, 0, 1, 0, 0, 1, 0, 1, 1, 0, 0, 0, 0, 1, 1, 0, 0, 0, 1, 0, 1, 0, 0, 0, 0, 1, 0, 0, 0, 1, 0, 0, 1, 1, 1, 0, 0, 0, 0, 0, 1, 0, 1, 0, 1, 1, 0, 0, 1, 1, 0, 0, 0, 0, 1, 0, 0, 0, 0, 0, 0, 0, 1, 1, 0, 1, 1, 1, 0, 0, 0, 0, 0, 0, 0, 0, 1, 0, 0, 0, 1, 1, 1, 1, 0, 0, 0, 0, 1, 0, 0, 0, 1, 0, 1, 1, 0, 0, 1, 1, 1, 1, 1, 1, 1, 0, 1, 0, 1, 0, 0, 1, 1, 0, 0, 1, 0, 0, 0, 1, 0, 1, 0, 1, 1, 0, 1, 0, 0, 0, 0, 1, 1, 0, 0, 1, 0, 1, 0, 0, 1, 1, 1, 0, 0, 0, 0, 0, 1, 0, 0, 0, 1, 1, 0, 1, 1, 0, 0, 0, 0, 1, 0, 0, 0, 1, 0, 1, 0, 1, 1, 1, 0, 0, 1, 0, 1, 1, 1, 1, 1, 0, 0, 0, 0, 0, 0, 1, 0, 0, 0, 0, 0, 0, 0, 0, 0, 0, 0, 1, 0, 0, 0, 1, 0, 1, 0, 1, 1, 0, 1, 0, 0, 0, 0, 0, 0, 1, 0, 0, 1, 0, 1, 1, 1, 0, 0, 1, 0, 1, 1, 1, 0, 0, 0, 1, 0, 1, 1, 1, 1, 1, 1, 1, 1, 0, 0, 1, 1, 0, 0, 0, 0, 1, 0, 0, 0, 0, 0, 0, 0, 1, 1, 0, 0, 0, 1, 1, 1, 0, 0, 1, 0, 1, 0, 1, 1, 0, 0, 0, 1, 0, 0, 1, 0, 0, 0, 0, 0, 1, 0, 1, 0, 0, 1, 0, 0, 1, 0, 1, 1, 0, 0, 0, 1, 0, 0, 1, 0, 0, 0, 1, 0, 1, 1, 0, 0, 1, 0, 1, 0, 0, 0, 0, 1, 1, 1, 0, 0, 1, 1, 0, 0, 1, 1, 1, 1, 1, 0, 0, 0, 0, 1, 1, 0, 0, 1, 0, 0, 0, 0, 1, 0, 1, 0, 0, 0, 1, 0, 0, 1, 1, 1, 0, 1, 0, 1, 0, 1, 1, 0, 1, 1, 0, 0, 1, 0, 1, 1, 0, 1, 1, 1, 1, 1, 1, 1, 1, 0, 0, 1, 1, 0, 1, 0, 1, 0, 0, 1, 0, 0, 0, 1, 1, 1, 0, 0, 0, 0, 1, 1, 0, 1, 0, 1, 0, 0, 0, 1, 1, 1, 0, 0, 1, 1, 0, 1, 0, 1, 0, 1, 0, 0, 1, 1, 1, 0, 0, 1, 1, 1, 0, 1, 1, 1, 0, 0, 1, 1, 0, 0, 0, 0, 1, 0, 1, 0, 0, 0, 0, 0, 0, 1, 1, 0, 0, 0, 1, 1, 1, 1, 1, 1, 0, 0, 1, 1, 1, 1, 0, 0, 0, 1, 1, 1, 1, 1, 1, 0, 0, 0, 1, 1, 1, 1, 0, 0, 0, 0, 0, 0, 1, 0, 0, 0, 1, 0, 0, 1, 1, 1, 0, 0, 0, 0, 1, 0, 0, 1, 0, 1, 1, 0, 0, 0, 0, 1, 0, 1, 1, 0, 1, 1, 1, 0, 0, 1, 0, 0, 1, 0, 0, 1, 0, 1, 0, 0, 0, 0, 1, 0, 1, 0, 0, 1, 0, 0, 0, 1, 1, 1, 0, 0, 0, 0, 0, 1, 1, 0, 0, 0, 0, 1, 1, 0, 1, 0, 0, 1, 1, 0, 1, 0, 1, 1, 1, 0, 0, 1, 0, 0, 1, 0, 1, 1, 0, 0, 1, 1, 0, 1, 0, 0, 0, 1, 0, 1, 1, 0, 0, 0, 1, 1, 0, 1, 0, 1, 0, 1, 0, 0, 0, 1, 1, 1, 0, 0, 0, 0, 1, 0, 1, 1, 0, 0, 0, 1, 1, 1, 0, 1, 0, 0, 1, 0, 1, 1, 0, 1, 0, 0, 1, 0, 0, 0, 1, 0, 1, 0, 0, 1, 0, 1, 1, 0, 1, 0, 1, 1, 0, 1, 1, 0, 0, 1, 1, 0, 0, 1, 1, 0, 1, 1, 0, 1, 0, 0, 0, 0, 1, 0, 0, 0, 0, 0, 0, 1, 1, 1, 0, 1, 0, 0, 0, 1, 1, 0, 1, 0, 0, 0, 0, 0, 0, 0, 0, 1, 0, 0, 0, 1, 1, 0, 1, 1, 1, 1, 0, 0, 1, 0, 0, 1, 1, 1, 0, 0, 0, 0, 1, 0, 1, 1, 1, 0, 1, 0, 0, 1, 1, 1, 0, 0, 0, 0, 0, 1, 1, 0, 1, 1, 0, 0, 1, 1, 0, 1, 0, 1, 1, 0, 1, 1, 0, 0, 1, 1, 1, 1, 0, 1, 1, 0, 1, 1, 0, 1, 0, 0, 1, 0, 1, 0, 1, 1, 1, 0, 1, 0, 0, 0, 1, 1, 0, 1, 1, 1, 0, 1, 0, 0, 1, 1, 0, 0, 0, 1, 1, 0, 0, 0, 1, 1, 1, 1, 1, 1, 1, 0, 0, 0, 0, 1, 0, 0, 1, 1, 1, 0, 1, 1, 1, 1, 0, 1, 1, 1, 0, 1, 1, 1, 1, 0, 0, 1, 0, 1, 0, 0, 1, 1, 1, 0, 0, 0, 1, 0, 0, 1, 0, 0, 0, 1, 0, 1, 1, 0, 1, 0, 0, 0, 1, 0, 0, 1, 0, 0, 1, 1, 1, 1, 0, 0, 0, 0, 0, 0, 0, 0, 0, 1, 0, 1, 0, 0, 1, 1, 1, 0, 0, 0, 1, 0, 0, 0, 0, 0, 0, 0, 1, 0, 1, 1, 1, 1, 0, 0, 1, 0, 0, 0, 0, 1, 0, 1, 0, 1, 0, 0, 0, 0, 0, 1, 0, 0, 0, 0, 0, 0, 1, 1, 0, 1, 1, 0, 1, 1, 0, 0, 0, 1, 1, 0, 0, 0, 0, 1, 1, 0, 0, 0, 1, 1, 0, 0, 1, 0, 0, 1, 0, 1, 0, 1, 0, 1, 0, 0, 0, 1, 0, 0, 0, 0, 0, 0, 0, 0, 1, 0, 0, 0, 1, 1, 1, 0, 0, 1, 0, 0, 1, 0, 1, 1, 1, 1, 0, 0, 1, 0, 1, 1, 0, 0, 1, 0, 0, 0, 1, 0, 0, 1, 0, 1, 0, 1, 1, 1, 1, 0, 0, 1, 0, 0, 1, 1, 0, 0, 1, 0, 0, 1, 1, 1, 0, 0, 0, 1, 1, 1, 1, 0, 0, 0, 1, 0, 0, 1, 0, 0, 1, 0, 1, 0, 0, 1, 0, 0, 0, 0, 0, 0, 0, 0, 0, 1, 1, 0, 0, 0, 1, 0, 0, 0, 0, 0, 1, 0, 1, 1, 0, 0, 0, 1, 0, 1, 1, 0, 0, 0, 1, 1, 1, 1, 0, 0, 0, 0, 1, 0, 0, 1, 1, 0, 0, 0, 0, 1, 0, 1, 0, 0, 1, 0, 0, 1, 0, 1, 0, 0, 0, 0, 0, 0, 0, 0, 1, 1, 1, 1, 0, 0, 0, 0, 1, 1, 1, 0, 0, 0, 1, 1, 1, 0, 0, 1, 1, 0, 0, 1, 0, 1, 1, 1, 0, 0, 0, 0, 0, 0, 1, 1, 1, 1, 0, 1, 0, 0, 1, 0, 0, 1, 1, 1, 1, 0, 0, 0, 1, 0, 1, 0, 0, 0, 0, 0, 0, 0, 1, 0, 0, 1, 1, 0, 1, 1, 0, 0, 1, 0, 0, 1, 0, 0, 1, 0, 1, 0, 1, 0, 0, 0, 0, 0, 1, 0, 0, 1, 0, 0, 0, 0, 1, 0, 0, 0, 0, 0, 0, 0, 0, 0, 0, 1, 0, 1, 0, 0, 0, 0, 1, 1, 0, 1, 0, 0, 1, 1, 1, 1, 1, 0, 1, 1, 1, 1, 1, 0, 0, 0, 0, 1, 1, 1, 0, 1, 0, 1, 0, 0, 0, 0, 1, 0, 1, 0, 0, 1, 0, 1, 0, 0, 1, 1, 1, 1, 0, 0, 1, 0, 0, 1, 0, 0, 1, 0, 0, 1, 1, 0, 0, 1, 0, 1, 1, 0, 0, 0, 0, 1, 1, 1, 0, 0, 0, 1, 1, 1, 0, 0, 0, 0, 0, 1, 1, 0, 0, 1, 1, 1, 0, 0, 1, 1, 1, 1, 0, 0, 0, 0, 0, 1, 0, 0, 1, 1, 0, 0, 0, 0, 0, 1, 1, 1, 1, 1, 0, 0, 1, 1, 0, 0, 1, 1, 0, 0, 0, 0, 0, 0, 0, 1, 0, 0, 1, 0, 0, 1, 1, 0, 0, 0, 0, 1, 1, 0, 0, 1, 0, 1, 0, 1, 1, 0, 0, 1, 1, 0, 0, 1, 1, 0, 1, 1, 1, 1, 1, 0, 0, 1, 0, 1, 1, 0, 0, 1, 0, 1, 1, 1, 1, 0, 0, 1, 1, 0, 0, 1, 0, 0, 0, 1, 0, 0, 0, 1, 0, 0, 1, 0, 0, 1, 1, 0, 0, 0, 1, 1, 1, 0, 0, 0, 0, 0, 1, 1, 1, 1, 0, 0, 0, 0, 0, 0, 1, 1, 0, 0, 1, 0, 1, 0, 0, 0, 1, 0, 0, 1, 0, 1, 1, 0, 1, 0, 0, 0, 0, 1, 0, 1, 1, 0, 0, 0, 0, 1, 0, 1, 0, 0, 1, 1, 0, 1, 0, 0, 1, 0, 0, 0, 0, 1, 1, 1, 1, 1, 1, 1, 1, 0, 0, 1, 0, 1, 0, 0, 0, 0, 1, 0, 0, 0, 0, 0, 0, 0, 0, 1, 0, 1, 1, 1, 0, 1, 1, 0, 1, 1, 1, 0, 1, 1, 1, 0, 0, 0, 0, 0, 1, 0, 1, 0, 1, 1, 0, 1, 1, 0, 1, 1, 1, 1, 0, 1, 1, 1, 0, 0, 1, 0, 1, 1, 1, 0, 0, 0, 1, 0, 1, 1, 1, 0, 0, 0, 0, 0, 0, 0, 0, 0, 0, 1, 0, 0, 0, 0, 0, 0, 1, 1, 0, 0, 0, 1, 1, 1, 0, 0, 1, 0, 0, 0, 0, 1, 0, 0, 1, 0, 1, 0, 0, 1, 0, 1, 0, 0, 1, 0, 1, 1, 1, 0, 0, 1, 1, 0, 1, 0, 0, 0, 0, 0, 1, 0, 0, 1, 0, 0, 1, 0, 1, 0, 0, 0, 0, 1, 1, 0, 1, 0, 0, 1, 1, 0, 0, 0, 0, 0, 1, 1, 0, 1, 0, 1, 1, 1, 0, 0, 0, 0, 0, 0, 1, 0, 0, 0, 1, 1, 0, 0, 0, 0, 0, 0, 0, 0, 1, 1, 1, 0, 0, 0, 0, 1, 1, 1, 1, 1, 0, 1, 0, 0, 0, 0, 0, 0, 1, 0, 0, 0, 0, 0, 0, 0, 1, 0, 0, 0, 1, 0, 1, 1, 0, 1, 0, 0, 0, 1, 1, 1, 1, 1, 1, 1, 1, 1, 0, 0, 0, 0, 0, 1, 1, 1, 0, 0, 1, 0, 1, 0, 1, 0, 1, 1, 0, 1, 0, 1, 1, 1, 1, 1, 1, 0, 0, 1, 0, 0, 0, 0, 0, 0, 1, 0, 1, 0, 0, 1, 1, 0, 0, 0, 1, 1, 1, 1, 0, 0, 0, 1, 1, 0, 1, 0, 1, 1, 1, 1, 0, 0, 1, 0, 1, 0, 0, 1, 0, 1, 0, 0, 1, 0, 0, 1, 0, 0, 0, 1, 0, 0, 0, 1, 1, 0, 0, 1, 1, 1, 1, 0, 0, 0, 1, 0, 0, 1, 0, 0, 1, 1, 0, 1, 1, 1, 1, 1, 1, 1, 0, 1, 0, 0, 1, 1, 0, 0, 1, 1, 0, 0, 1, 1, 1, 0, 0, 1, 1, 0, 1, 1, 1, 0, 1, 0, 1, 0, 0, 0, 1, 1, 0, 0, 0, 1, 0, 1, 0, 1, 0, 0, 1, 0, 1, 0, 1, 0, 0, 1, 1, 0, 0, 0, 0, 0, 0, 0, 1, 0, 0, 1, 1, 0, 0, 1, 1, 0, 0, 1, 0, 1, 1, 0, 0, 0, 0, 0, 1, 0, 0, 1, 0, 1, 0, 0, 1, 1, 0, 0, 1, 1, 0, 1, 0, 1, 0, 1, 1, 0, 0, 0, 1, 1, 0, 1, 0, 0, 1, 0, 0, 0, 0, 0, 0, 0, 1, 0, 0, 1, 1, 1, 0, 1, 0, 0, 0, 0, 0, 0, 0, 0, 1, 0, 0, 0, 1, 1, 1, 0, 0, 1, 0, 1, 0, 0, 0, 0, 0, 1, 0, 0, 0, 0, 1, 0, 0, 0, 0, 0, 1, 1, 0, 1, 0, 0, 0, 0, 0, 0, 1, 1, 1, 0, 1, 0, 0, 0, 0, 0, 0, 1, 0, 0, 0, 0, 1, 1, 0, 1, 0, 0, 1, 1, 0, 1, 1, 1, 0, 1, 0, 0, 1, 0, 0, 0, 1, 0, 1, 0, 0, 1, 1, 0, 1, 0, 1, 1, 0, 1, 1, 1, 1, 1, 1, 0, 1, 0, 0, 1, 0, 1, 1, 0, 0, 0, 0, 0, 1, 0, 1, 1, 0, 0, 0, 0, 0, 1, 0, 0, 1, 1, 0, 1, 1, 0, 0, 1, 0, 0, 0, 0, 1, 0, 1, 0, 1, 0, 1, 0, 1, 1, 0, 1, 0, 0, 1, 1, 0, 1, 0, 1, 0, 1, 1, 1, 0, 0, 0, 0, 1, 1, 1, 0, 0, 1, 1, 0, 0, 1, 0, 0, 1, 1, 1, 1, 1, 1, 1, 0, 1, 1, 1, 1, 0, 1, 0, 0, 1, 1, 0, 0, 1, 1, 0, 0, 1, 1, 0, 0, 0, 0, 0, 1, 0, 1, 0, 0, 0, 1, 1, 1, 1, 0, 0, 0, 0, 0, 1, 1, 0, 1, 0, 0, 0, 0, 1, 0, 0, 1, 0, 0, 0, 1, 1, 0, 1, 1, 0, 0, 0, 1, 0, 0, 1, 0, 0, 1, 1, 0, 0, 1, 1, 1, 1, 0, 1, 0, 0, 1, 0, 0, 1, 0, 0, 1, 1, 0, 0, 0, 0, 0, 0, 1, 0, 0, 0, 1, 0, 1, 1, 1, 1, 0, 1, 1, 0, 0, 1, 0, 0, 0, 1, 1, 0, 0, 0, 0, 0, 0, 1, 1, 1, 0, 0, 0, 0, 0, 0, 0, 0, 0, 0, 0, 1, 1, 0, 1, 1, 0, 1, 0, 0, 0, 0, 0, 1, 0, 1, 1, 0, 0, 1, 0, 1, 0, 0, 1, 1, 0, 0, 0, 0, 1, 0, 1, 1, 1, 0, 0, 1, 1, 0, 1, 0, 1, 1, 0, 0, 1, 1, 1, 1, 0, 0, 1, 0, 0, 0, 0, 0, 1, 0, 0, 1, 1, 1, 1, 1, 0, 0, 1, 1, 0, 0, 1, 1, 0, 1, 0, 0, 0, 0, 0, 1, 1, 1, 0, 0, 1, 0, 0, 1, 0, 0, 1, 0, 0, 0, 0, 0, 1, 0, 1, 0, 1, 1, 0, 0, 0, 0, 1, 0, 0, 0, 1, 0, 1, 1, 0, 1, 0, 1, 0, 0, 0, 0, 0, 0, 1, 0, 1, 0, 0, 0, 0, 1, 1, 1, 1, 0, 0, 1, 0, 0, 1, 0, 1, 1, 0, 0, 0, 0, 0, 1, 0, 1, 0, 0, 1, 1, 1, 0, 1, 1, 0, 1, 1, 1, 0, 0, 1, 1, 1, 0, 0, 1, 0, 1, 1, 0, 0, 0, 0, 0, 0, 0, 0, 1, 0, 0, 1, 0, 0, 0, 0, 1, 0, 0, 0, 1, 0, 1, 0, 0, 1, 1, 0, 0, 1, 1, 0, 1, 1, 1, 1, 0, 0, 0, 1, 1, 1, 1, 1, 1, 0, 0, 0, 0, 1, 1, 0, 1, 1, 0, 0, 0, 0, 0, 0, 1, 0, 1, 1, 0, 1, 0, 0, 0, 0, 0, 0, 1, 0, 0, 1, 1, 0, 0, 0, 0, 0, 1, 1, 0, 1, 1, 0, 0, 1, 1, 1, 1, 1, 0, 0, 1, 0, 0, 1, 0, 1, 1, 0, 0, 0, 1, 0, 0, 1, 1, 1, 0, 0, 0, 0, 1, 0, 0, 1, 1, 0, 0, 1, 1, 0, 0, 0, 1, 0, 0, 0, 1, 1, 1, 1, 0, 1, 0, 1, 0, 0, 1, 0, 1, 0, 0, 1, 1, 1, 0, 1, 0, 0, 0, 0, 1, 1, 0, 0, 0, 1, 0, 0, 1, 1, 0, 0, 0, 0, 1, 1, 0, 1, 0, 1, 0, 0, 1, 0, 0, 0, 0, 0, 1, 0, 1, 0, 1, 0, 1, 0, 1, 0, 0, 0, 1, 0, 1, 1, 1, 0, 0, 1, 0, 0, 1, 0, 1, 0, 0, 1, 0, 0, 0, 0, 0, 1, 1, 1, 0, 0, 1, 0, 1, 0, 0, 1, 0, 0, 0, 1, 1, 0, 0, 1, 1, 0, 0, 1, 1, 1, 1, 0, 0, 1, 1, 0, 0, 0, 1, 1, 0, 1, 0, 0, 0, 0, 0, 0, 0, 0, 1, 1, 1, 1, 0, 1, 0, 1, 0, 0, 0, 1, 0, 1, 0, 0, 1, 0, 0, 1, 0, 1, 0, 0, 0, 0, 0, 0, 0, 1, 1, 1, 0, 0, 0, 1, 0, 1, 1, 0, 1, 0, 1, 0, 0, 0, 1, 1, 0, 1, 1, 0, 1, 0, 1, 1, 1, 1, 1, 1, 1, 0, 1, 0, 0, 0, 0, 0, 0, 0, 0, 1, 1, 0, 0, 0, 1, 1, 1, 0, 0, 1, 0, 1, 0, 1, 1, 0, 1, 0, 0, 0, 1, 0, 1, 1, 1, 1, 0, 0, 0, 0, 1, 0, 1, 1, 0, 0, 0, 0, 0, 0, 0, 1, 1, 1, 0, 0, 0, 0, 1, 0, 1, 1, 0, 1, 0, 1, 0, 1, 0, 1, 0, 1, 1, 0, 1, 0, 0, 0, 0, 1, 0, 0, 1, 1, 1, 0, 0, 0, 0, 0, 1, 1, 1, 0, 1, 0, 1, 1, 1, 1, 1, 0, 1, 0, 0, 1, 0, 0, 1, 0, 1, 0, 0, 0, 0, 0, 0, 0, 0, 1, 0, 0, 1, 1, 1, 0, 0, 0, 0, 0, 0, 0, 1, 1, 0, 1, 1, 1, 0, 0, 0, 1, 1, 1, 1, 0, 0, 0, 0, 0, 1, 0, 0, 0, 0, 1, 1, 1, 0, 0, 0, 1, 1, 1, 1, 1, 0, 0, 0, 0, 0, 1, 0, 1, 0, 1, 0, 0, 0, 0, 1, 0, 1, 0, 0, 0, 1, 1, 1, 1, 1, 1, 0, 1, 1, 0, 1, 0, 0, 1, 1, 0, 1, 0, 1, 0, 1, 1, 1, 0, 1, 1, 0, 0, 0, 0, 1, 0, 1, 0, 1, 1, 0, 1, 0, 1, 1, 0, 0, 1, 0, 0, 0, 0, 0, 1, 0, 1, 0, 1, 0, 0, 1, 0, 0, 1, 1, 1, 0, 1, 0, 1, 0, 0, 0, 1, 1, 0, 0, 0, 0, 1, 0, 0, 0, 1, 0, 1, 1, 1, 1, 0, 0, 1, 0, 1, 0, 1, 0, 0, 0, 1, 0, 1, 1, 1, 0, 0, 1, 0, 1, 0, 1, 0, 0, 1, 1, 1, 1, 0, 1, 1, 0, 0, 0, 0, 1, 0, 1, 1, 1, 0, 1, 1, 0, 0, 0, 1, 0, 0, 0, 0, 0, 1, 1, 0, 1, 0, 1, 1, 0, 1, 0, 1, 0, 1, 0, 0, 1, 0, 1, 0, 1, 1, 1, 0, 1, 1, 1, 1, 1, 1, 0, 1, 1, 1, 1, 1, 0, 1, 0, 0, 1, 1, 1, 0, 0, 0, 0, 1, 0, 0, 1, 1, 0, 0, 0, 0, 1, 0, 1, 0, 1, 0, 1, 0, 0, 0, 0, 1, 1, 0, 0, 1, 0, 1, 1, 0, 0, 0, 1, 1, 0, 1, 1, 1, 1, 1, 0, 0, 0, 1, 0, 1, 0, 0, 0, 1, 0, 1, 0, 0, 0, 0, 1, 0, 1, 0, 0, 0, 0, 0, 0, 1, 0, 1, 0, 0, 0, 1, 1, 0, 0, 1, 1, 0, 1, 1, 1, 0, 0, 0, 0, 1, 0, 0, 0, 0, 0, 0, 0, 0, 1, 0, 1, 0, 1, 1, 0, 1, 1, 1, 0, 0, 1, 0, 0, 0, 1, 1, 0, 1, 1, 0, 1, 0, 0, 0, 1, 0, 0, 0, 0, 0, 1, 1, 1, 0, 1, 0, 0, 1, 1, 1, 1, 0, 0, 0, 1, 1, 1, 0, 0, 0, 0, 0, 0, 0, 0, 0, 1, 1, 1, 1, 0, 1, 0, 1, 0, 1, 1, 0, 0, 1, 0, 1, 0, 1, 0, 0, 0, 1, 0, 1, 1, 1, 0, 0, 1, 0, 0, 0, 0, 0, 0, 1, 0, 0, 0, 0, 1, 0, 0, 0, 0, 1, 0, 0, 1, 0, 1, 1, 0, 1, 1, 0, 1, 0, 0, 1, 0, 1, 0, 0, 1, 0, 0, 1, 1, 0, 1, 1, 1, 1, 0, 0, 1, 1, 0, 0, 0, 0, 0, 0, 1, 1, 0, 1, 1, 0, 0, 1, 0, 0, 1, 0, 0, 1, 0, 0, 1, 1, 0, 1, 0, 0, 0, 0, 1, 0, 0, 1, 0, 1, 1, 0, 1, 0, 1, 0, 0, 0, 0, 0, 1, 1, 0, 1, 1, 0, 1, 1, 0, 1, 1, 1, 0, 1, 0, 1, 0, 1, 0, 1, 1, 0, 0, 0, 0, 0, 1, 1, 0, 1, 0, 1, 0, 0, 0, 0, 0, 0, 0, 1, 1, 0, 0, 1, 0, 1, 0, 1, 1, 0, 0, 1, 0, 0, 0, 1, 0, 1, 0, 0, 1, 1, 0, 1, 0, 1, 0, 1, 1, 0, 1, 1, 1, 1, 0, 0, 1, 1, 1, 0, 0, 0, 0, 1, 0, 0, 0, 1, 0, 1, 0, 1, 0, 0, 1, 0, 0, 0, 0, 0, 0, 0, 0, 0, 1, 0, 0, 0, 0, 1, 1, 0, 1, 1, 0, 1, 0, 0, 1, 0, 0, 0, 0, 1, 0, 1, 1, 1, 0, 0, 0, 1, 1, 1, 1, 1, 0, 1, 1, 0, 0, 0, 0, 0, 0, 1, 1, 0, 0, 1, 0, 1, 0, 0, 0, 0, 0, 1, 1, 0, 0, 1, 0, 1, 0, 0, 1, 1, 1, 1, 0, 1, 1, 0, 0, 0, 1, 0, 0, 0, 0, 0, 1, 1, 0, 1, 0, 1, 0, 1, 0, 1, 0, 0, 0, 0, 1, 1, 0, 1, 0, 1, 1, 1, 0, 0, 0, 0, 0, 1, 1, 1, 0, 0, 0, 0, 0, 0, 1, 1, 1, 1, 0, 0, 1, 1, 0, 0, 1, 1, 1, 1, 0, 1, 0, 0, 1, 0, 0, 0, 0, 1, 0, 1, 0, 0, 0, 0, 1, 1, 0, 1, 0, 0, 1, 0, 0, 0, 1, 0, 0, 1, 1, 1, 1, 0, 0, 0, 1, 1, 0, 1, 0, 0, 0, 0, 0, 0, 1, 0, 1, 0, 0, 0, 1, 0, 0, 0, 1, 0, 1, 0, 0, 0, 0, 0, 0, 1, 0, 0, 0, 1, 0, 0, 0, 1, 1, 1, 0, 1, 1, 0, 1, 0, 1, 0, 0, 1, 1, 1, 1, 1, 1, 0, 0, 0, 0, 1, 0, 0, 1, 0, 1, 1, 1, 1, 1, 0, 1, 1, 1, 0, 0, 0, 1, 1, 1, 0, 1, 1, 0, 0, 1, 0, 0, 0, 0, 0, 1, 1, 0, 1, 1, 1, 0, 0, 0, 0, 0, 1, 1, 1, 0, 1, 1, 0, 1, 1, 1, 0, 0, 1, 0, 0, 1, 0, 0, 1, 0, 1, 0, 1, 0, 1, 1, 1, 0, 1, 0, 1, 0, 0, 0, 0, 1, 0, 1, 0, 0, 0, 0, 0, 1, 0, 0, 0, 1, 1, 0, 1, 1, 0, 1, 0, 1, 1, 0, 1, 1, 0, 0, 0, 1, 1, 0, 1, 0, 1, 0, 1, 0, 0, 1, 1, 1, 0, 1, 1, 0, 1, 0, 1, 1, 0, 1, 1, 1, 1, 0, 0, 1, 1, 0, 0, 1, 1, 0, 1, 0, 0, 1, 0, 1, 1, 1, 0, 1, 1, 0, 0, 0, 0, 0, 1, 1, 1, 1, 0, 1, 1, 0, 0, 1, 1, 0, 0, 0, 0, 0, 1, 0, 0, 0, 0, 1, 0, 1, 0, 0, 1, 0, 0, 0, 0, 0, 1, 0, 0, 1, 0, 1, 0, 0, 0, 0, 0, 0, 0, 1, 1, 0, 1, 0, 1, 0, 0, 1, 1, 0, 1, 0, 1, 0, 1, 0, 0, 1, 1, 1, 0, 0, 0, 1, 1, 0, 1, 0, 0, 0, 0, 0, 0, 0, 0, 0, 1, 0, 0, 0, 0, 0, 1, 0, 0, 0, 0, 0, 0, 0, 1, 0, 1, 0, 0, 1, 0, 0, 0, 1, 1, 0, 0, 0, 0, 0, 1, 1, 1, 0, 0, 0, 0, 0, 0, 1, 0, 0, 1, 1, 0, 0, 1, 0, 0, 1, 0, 1, 0, 1, 1, 0, 1, 1, 0, 0, 1, 1, 1, 1, 1, 0, 0, 1, 0, 0, 0, 0, 0, 1, 0, 0, 0, 0, 0, 1, 1, 0, 0, 1, 0, 0, 1, 0, 0, 1, 0, 0, 0, 0, 1, 0, 1, 0, 0, 1, 0, 0, 0, 1, 1, 1, 1, 0, 0, 0, 0, 1, 0, 0, 0, 1, 1, 1, 0, 1, 0, 0, 0, 0, 1, 1, 0, 0, 0, 0, 1, 0, 0, 0, 1, 1, 0, 1, 0, 1, 1, 1, 1, 0, 0, 1, 0, 0, 0, 1, 1, 1, 1, 1, 0, 0, 1, 0, 0, 0, 1, 0, 0, 0, 0, 1, 1, 1, 1, 1, 0, 0, 0, 1, 0, 1, 0, 1, 0, 1, 1, 1, 0, 0, 0, 0, 0, 0, 0, 1, 1, 1, 0, 0, 1, 0, 0, 1, 0, 1, 0, 0, 1, 0, 0, 0, 0, 0, 1, 1, 1, 1, 1, 1, 1, 0, 0, 0, 1, 1, 1, 1, 1, 0, 0, 0, 1, 0, 0, 0, 0, 1, 1, 1, 0, 0, 0, 1, 0, 1, 1, 0, 0, 1, 0, 1, 1, 1, 1, 0, 0, 1, 1, 1, 0, 1, 0, 0, 1, 0, 1, 0, 0, 1, 0, 1, 0, 1, 0, 0, 0, 0, 0, 0, 1, 1, 0, 0, 0, 0, 0, 1, 1, 1, 1, 1, 1, 0, 1, 1, 1, 1, 0, 1, 1, 0, 0, 1, 0, 1, 0, 1, 1, 0, 1, 0, 0, 1, 1, 0, 0, 1, 0, 1, 0, 0, 0, 0, 1, 1, 0, 1, 1, 1, 0, 0, 1, 0, 1, 0, 0, 0, 1, 1, 1, 1, 0, 1, 1, 1, 0, 0, 0, 0, 0, 1, 1, 0, 0, 0, 1, 0, 1, 0, 1, 0, 1, 1, 0, 1, 0, 1, 0, 1, 1, 1, 1, 0, 0, 1, 1, 0, 1, 0, 0, 0, 0, 1, 0, 0, 1, 0, 1, 1, 1, 1, 1, 0, 1, 0, 0, 0, 0, 1, 1, 1, 0, 0, 0, 1, 1, 1, 0, 0, 0, 0, 0, 0, 1, 1, 1, 1, 1, 1, 0, 0, 0, 0, 0, 1, 1, 0, 0, 1, 1, 1, 0, 0, 0, 1, 1, 1, 1, 1, 0, 1, 1, 1, 0, 0, 1, 1, 1, 1, 0, 0, 1, 1, 0, 0, 0, 1, 1, 0, 0, 0, 0, 0, 1, 0, 1, 1, 0, 0, 0, 1, 1, 0, 1, 0, 0, 1, 0, 1, 0, 0, 1, 1, 1, 0, 0, 0, 1, 0, 1, 0, 0, 0, 0, 1, 0, 1, 0, 0, 0, 1, 1, 0, 1, 0, 0, 0, 0, 0, 1, 1, 0, 1, 1, 0, 0, 0, 0, 1, 0, 0, 0, 0, 1, 0, 0, 1, 1, 0, 1, 1, 0, 0, 0, 0, 0, 1, 1, 1, 1, 1, 0, 0, 1, 0, 1, 0, 1, 1, 0, 0, 0, 0, 1, 0, 0, 1, 0, 0, 1, 1, 0, 0, 1, 1, 0, 1, 0, 1, 1, 1, 0, 1, 0, 1, 1, 0, 1, 0, 0, 1, 0, 1, 0, 0, 0, 1, 1, 0, 0, 0, 1, 0, 0, 0, 0, 0, 0, 1, 0, 0, 0, 1, 0, 0, 1, 0, 0, 0, 0, 1, 1, 0, 0, 0, 0, 0, 1, 0, 1, 0, 1, 0, 1, 0, 1, 1, 0, 0, 1, 0, 0, 0, 0, 0, 0, 1, 0, 0, 1, 1, 1, 0, 1, 0, 0, 0, 0, 0, 0, 0, 0, 0, 0, 0, 1, 0, 0, 0, 1, 1, 0, 1, 0, 1, 0, 0, 1, 0, 0, 1, 1, 0, 0, 0, 1, 1, 1, 0, 0, 0, 0, 1, 1, 1, 0, 0, 0, 0, 1, 0, 1, 0, 1, 0, 0, 1, 1, 0, 0, 0, 1, 1, 1, 0, 0, 0, 1, 0, 0, 0, 1, 1, 1, 0, 1, 1, 0, 1, 0, 0, 0, 0, 0, 0, 0, 0, 0, 0, 0, 1, 1, 1, 0, 0, 1, 1, 1, 0, 0, 1, 0, 0, 0, 1, 1, 0, 0, 1, 0, 1, 0, 0, 0, 0, 0, 1, 1, 1, 0, 0, 1, 1, 0, 1, 0, 1, 0, 0, 0, 1, 0, 0, 0, 1, 0, 0, 0, 1, 0, 0, 1, 0, 0, 1, 0, 1, 0, 1, 1, 1, 0, 1, 1, 0, 1, 0, 0, 0, 0, 1, 1, 1, 0, 1, 0, 0, 0, 1, 1, 1, 0, 0, 0, 1, 0, 1, 0, 0, 1, 0, 0, 1, 0, 1, 0, 1, 1, 0, 0, 0, 0, 1, 1, 1, 0, 0, 1, 1, 1, 1, 0, 1, 0, 0, 0, 0, 1, 1, 1, 1, 0, 1, 1, 1, 0, 0, 0, 1, 1, 1, 0, 0, 1, 0, 1, 0, 0, 0, 1, 1, 0, 0, 0, 0, 1, 0, 0, 1, 0, 0, 0, 0, 0, 0, 1, 0, 0, 0, 0, 1, 0, 0, 0, 0, 0, 0, 0, 0, 0, 0, 1, 0, 0, 1, 1, 0, 1, 0, 0, 0, 1, 1, 0, 0, 0, 0, 0, 0, 0, 1, 1, 0, 0, 0, 0, 0, 1, 1, 0, 0, 1, 0, 0, 1, 1, 1, 1, 1, 0, 1, 0, 1, 0, 0, 0, 0, 0, 0, 0, 1, 0, 1, 0, 1, 1, 0, 0, 0, 1, 1, 1, 0, 0, 0, 0, 1, 0, 1, 0, 0, 1, 0, 0, 0, 0, 1, 0, 1, 1, 0, 1, 1, 1, 1, 1, 1, 0, 0, 1, 0, 0, 0, 1, 0, 0, 1, 1, 0, 0, 0, 0, 1, 0, 1, 0, 0, 0, 0, 1, 1, 1, 0, 1, 1, 1, 0, 1, 0, 0, 1, 1, 1, 1, 1, 1, 0, 0, 0, 1, 0, 0, 0, 0, 1, 1, 1, 1, 1, 0, 0, 0, 0, 1, 1, 1, 1, 0, 1, 0, 0, 0, 1, 1, 1, 1, 1, 1, 0, 1, 0, 0, 1, 1, 1, 1, 1, 0, 0, 1, 0, 0, 1, 1, 1, 0, 0, 1, 1, 1, 1, 0, 0, 0, 0, 1, 1, 0, 0, 1, 0, 0, 1, 0, 1, 1, 0, 0, 1, 1, 1, 0, 0, 1, 1, 0, 0, 1, 0, 0, 0, 1, 1, 1, 0, 1, 1, 0, 1, 1, 1, 0, 0, 0, 0, 0, 0, 0, 1, 1, 1, 0, 0, 0, 0, 0, 1, 0, 1, 1, 1, 1, 1, 0, 1, 1, 0, 1, 1, 0, 1, 1, 1, 1, 0, 0, 0, 1, 0, 0, 1, 1, 1, 0, 0, 1, 1, 1, 0, 0, 0, 1, 0, 0, 1, 0, 0, 0, 0, 1, 1, 1, 1, 1, 1, 0, 1, 0, 0, 0, 1, 1, 0, 1, 1, 1, 0, 1, 0, 0, 0, 1, 1, 1, 1, 1, 0, 1, 0, 0, 0, 1, 1, 0, 1, 0, 0, 0, 0, 0, 1, 1, 0, 1, 1, 0, 1, 0, 1, 0, 0, 0, 1, 0, 1, 0, 0, 0, 0, 1, 1, 0, 0, 1, 0, 1, 1, 0, 1, 1, 0, 0, 1, 1, 0, 0, 1, 0, 0, 0, 0, 0, 0, 1, 0, 0, 1, 1, 0, 0, 1, 0, 1, 1, 1, 0, 1, 0, 0, 1, 0, 0, 1, 0, 0, 1, 0, 0, 0, 1, 0, 0, 0, 1, 0, 0, 0, 1, 1, 0, 0, 1, 0, 1, 1, 0, 0, 0, 0, 1, 0, 0, 1, 0, 1, 1, 1, 1, 1, 0, 0, 1, 1, 1, 0, 1, 1, 1, 0, 0, 0, 0, 1, 0, 0, 1, 0, 1, 0, 0, 0, 1, 0, 0, 0, 0, 1, 0, 0, 0, 0, 0, 0, 1, 0, 1, 1, 0, 0, 0, 1, 0, 0, 0, 1, 1, 0, 1, 0, 0, 1, 0, 1, 1, 1, 1, 1, 0, 0, 1, 0, 1, 0, 0, 1, 0, 0, 0, 1, 0, 0, 1, 1, 0, 0, 0, 1, 0, 0, 0, 0, 0, 0, 1, 1, 1, 0, 1, 0, 0, 0, 0, 0, 0, 0, 0, 1, 0, 0, 1, 1, 0, 0, 0, 1, 0, 1, 0, 1, 1, 1, 0, 0, 1, 1, 0, 1, 0, 0, 0, 1, 0, 0, 0, 0, 1, 0, 1, 0, 0, 0, 1, 1, 1, 0, 0, 0, 1, 1, 0, 1, 0, 1, 0, 1, 1, 0, 1, 0, 0, 1, 0, 0, 0, 0, 0, 0, 1, 1, 1, 0, 1, 1, 1, 0, 0, 0, 0, 1, 0, 1, 1, 0, 1, 0, 0, 0, 1, 1, 0, 1, 0, 1, 0, 1, 0, 1, 1, 0, 0, 1, 0, 0, 0, 1, 0, 1, 0, 0, 0, 1, 1, 1, 0, 1, 0, 1, 1, 1, 1, 1, 1, 0, 0, 0, 0, 0, 1, 1, 0, 1, 1, 0, 0, 1, 0, 1, 1, 0, 0, 1, 0, 0, 1, 1, 1, 0, 1, 0, 1, 0, 1, 0, 0, 0, 0, 1, 1, 0, 1, 0, 0, 1, 1, 1, 1, 0, 0, 0, 1, 1, 0, 1, 0, 0, 0, 1, 1, 0, 0, 0, 1, 1, 1, 0, 1, 1, 0, 1, 0, 0, 1, 1, 0, 0, 1, 1, 1, 1, 1, 1, 1, 0, 0, 0, 1, 1, 0, 0, 0, 1, 0, 0, 1, 0, 0, 0, 1, 0, 1, 1, 1, 0, 1, 1, 0, 0, 1, 1, 1, 1, 0, 0, 1, 1, 0, 1, 1, 0, 1, 1, 0, 0, 0, 0, 1, 1, 0, 0, 1, 0, 1, 0, 1, 0, 1, 1, 1, 0, 0, 0, 1, 0, 1, 1, 0, 0, 1, 0, 0, 1, 0, 0, 0, 0, 0, 0, 1, 1, 0, 0, 0, 0, 0, 0, 0, 0, 1, 0, 1, 1, 1, 0, 1, 0, 1, 1, 0, 1, 0, 0, 0, 1, 0, 0, 0, 1, 0, 1, 1, 1, 1, 0, 1, 0, 0, 0, 1, 1, 1, 0, 1, 1, 1, 1, 0, 0, 0, 0, 1, 0, 1, 0, 1, 0, 1, 0, 0, 1, 1, 0, 0, 0, 0, 1, 0, 0, 0, 1, 1, 1, 0, 1, 0, 1, 0, 0, 1, 0, 0, 1, 1, 0, 1, 1, 1, 0, 1, 0, 1, 0, 1, 1, 1, 1, 1, 0, 0, 0, 0, 0, 0, 0, 0, 1, 0, 1, 0, 1, 0, 1, 0, 1, 1, 1, 0, 0, 1, 0, 0, 1, 0, 1, 0, 0, 0, 1, 1, 1, 1, 1, 0, 1, 0, 0, 0, 1, 1, 1, 1, 0, 1, 0, 1, 0, 0, 1, 0, 0, 1, 0, 0, 0, 1, 1, 0, 0, 0, 0, 0, 1, 0, 1, 0, 0, 0, 0, 0, 1, 0, 1, 0, 1, 0, 0, 0, 0, 1, 0, 0, 0, 1, 0, 0, 0, 1, 1, 0, 0, 1, 1, 1, 0, 0, 0, 0, 0, 1, 1, 0, 0, 0, 0, 0, 0, 0, 0, 1, 0, 0, 1, 1, 1, 1, 1, 0, 0, 0, 1, 0, 0, 0, 0, 0, 0, 1, 0, 0, 1, 1, 1, 1, 1, 0, 0, 0, 0, 1, 0, 0, 1, 1, 1, 0, 0, 1, 1, 0, 0, 1, 0, 1, 0, 0, 0, 0, 0, 1, 0, 1, 0, 0, 1, 1, 0, 1, 1, 0, 1, 0, 0, 0, 1, 0, 1, 0, 0, 0, 0, 0, 0, 1, 0, 1, 0]]\n"
     ]
    }
   ],
   "source": [
    "batch_pred()\n",
    "print(batch_arr)"
   ]
  }
 ],
 "metadata": {
  "kernelspec": {
   "display_name": "Python 3",
   "language": "python",
   "name": "python3"
  },
  "language_info": {
   "codemirror_mode": {
    "name": "ipython",
    "version": 3
   },
   "file_extension": ".py",
   "mimetype": "text/x-python",
   "name": "python",
   "nbconvert_exporter": "python",
   "pygments_lexer": "ipython3",
   "version": "3.8.8"
  }
 },
 "nbformat": 4,
 "nbformat_minor": 5
}
